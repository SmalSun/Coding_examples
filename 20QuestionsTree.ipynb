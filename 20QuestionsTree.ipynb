{
 "cells": [
  {
   "cell_type": "markdown",
   "metadata": {
    "deletable": false,
    "editable": false,
    "nbgrader": {
     "cell_type": "markdown",
     "checksum": "48cee8447805e4e423d263d3c8531825",
     "grade": false,
     "grade_id": "cell-988abc706d7b0311",
     "locked": true,
     "schema_version": 3,
     "solution": false
    }
   },
   "source": [
    "# The Game\n",
    "\n",
    "*If you haven't watched the video about playing 20 questions against a computer using the Tree to help the computer ask you questions, this assignment probably won't make sense. Finish the lessons and come back.*\n",
    "\n",
    "To make the 20 questions game work correctly, you will need to add the functionality of interacting with the provided btree class, followed by the logic of the game itself. This assignment is slightly different from earlier assignments as we are not dealing with input files, and now have user input and output. \n",
    "\n",
    "To make the notebook easier to understand, each portion is labeled as a new section. All of the code for interacting with the question/answer tree comes first, and each section has autograded tests. The code of these tests are generally hidden to keep from confusing you, as they interact with the tree in a different way than you should interact with it (this is the nature of testing code with data structures in Python). The comments in each cell tell you what the test is testing.\n",
    "\n",
    "You may add cells to experiment with your functions wherever you see fit. But the requested functions must be filled in inside the provided cell.\n",
    "\n",
    "For testing your final game, you have access to two saved game files: `/data/CS703/animalgame.txt` and `/data/CS703/plantgame.txt`. You can use these as input to your game, or you can create your own if you would like.\n",
    "\n",
    "## The Overall process of the game\n",
    "\n",
    "The very last code you'll write is the code to play the game, which will use the functions you write above it. You should read over that section first to make sure you understand what you are trying to do. The overall flow of the game is essentially the following steps:\n",
    "\n",
    "1. Read in file containing pre-order traversal of game tree\n",
    "2. Build BTree tree to represent game from this data\n",
    "3. Play the game as many times as the user wants\n",
    "  1. Tell them what game they are playing\n",
    "  2. While you haven't reached an answer, keep asking questions and moving through the tree based on the user's yes/no answers\n",
    "  3. Once you are at an answer, guess that answer by outputting it to the user\n",
    "  4. Ask the use if you are correct\n",
    "  5. If you are wrong, it's time to update the tree:\n",
    "    1. Ask the user what the answer should have been\n",
    "    2. Ask for a question that would have gotten you that answer from where you were in the tree, such that the correct answer was the \"yes\" answer and the answer you had guess was the \"no\" answer\n",
    "    3. Update tree with this new question/answer\n",
    "  6. Reset the game and ask the user if they want to play again\n",
    "\n",
    "## What You'll Write\n",
    "\n",
    "Due to the autograder tests the notebook looks long, but there's only a few cells where you are writing any code. The overall program is actually fairly short. You will be writing the following code in this notebook:\n",
    "\n",
    "1. Setup function: This function takes the game in a pre-order list (NOTE: file reading happens elsewhere), and turns it into a BTree following the algorithm provided in the lessons.\n",
    "2. Next_node function: This function returns the next node for consideration as the game is being played.\n",
    "3. add_object: This function allows you to modify the tree that is being used as the game is played, when the computer guesses the wrong answer in the game (step 3.E above)\n",
    "4. Code for reading in the file and storing it into the name variable and the pre-order list\n",
    "5. Complete the code for playing the game. There are comments to guide you through the above steps, and some code is provided for you."
   ]
  },
  {
   "cell_type": "code",
   "execution_count": 1,
   "metadata": {
    "code_folding": [],
    "deletable": false,
    "nbgrader": {
     "cell_type": "code",
     "checksum": "d5aff546d25078266d0a969dbd36d0c5",
     "grade": false,
     "grade_id": "cell-88a1ccc8febcbfc7",
     "locked": false,
     "schema_version": 3,
     "solution": true,
     "task": false
    }
   },
   "outputs": [],
   "source": [
    "#import the ADTs you will need\n",
    "from stack import Stack\n",
    "from btree import BTree"
   ]
  },
  {
   "cell_type": "markdown",
   "metadata": {
    "deletable": false,
    "editable": false,
    "nbgrader": {
     "cell_type": "markdown",
     "checksum": "79b1bee76ead1b56da1e36e02ee2cc69",
     "grade": false,
     "grade_id": "cell-112781cbb7eec080",
     "locked": true,
     "schema_version": 3,
     "solution": false
    }
   },
   "source": [
    "## Loading \n",
    "\n",
    "Your first task is to create the function to load/start a game. You should create functions that act as defined by the doc strings provided. Note that it is up to you whether left or right is yes, but you should be consistent. You should use our discussion from class to help you write the setup function. If your algorithm is correct, you should need one line of code for every step in the algorithm; don't make it more complicated than it is."
   ]
  },
  {
   "cell_type": "code",
   "execution_count": 2,
   "metadata": {
    "code_folding": [],
    "deletable": false,
    "nbgrader": {
     "cell_type": "code",
     "checksum": "a359087a9f83742de0be547de5ae30fc",
     "grade": false,
     "grade_id": "cell-719cc8c854e211e9",
     "locked": false,
     "schema_version": 3,
     "solution": true
    }
   },
   "outputs": [],
   "source": [
    "def setup(universe_list=None):\n",
    "    '''Build a 20 questions game from a preorder traversal list, \n",
    "    using a stack from the provided stack class.\n",
    "    Parameters are:\n",
    "    * universe_list: a list of data in perorder order, to be loaded into tree.\n",
    "    Returns:\n",
    "    * if universe_list is not empty: the tree that contains all of the nodes in the correct \n",
    "    structure as defined by the universe_list parameter. \n",
    "    * otherwise: an empty tree with 1 node, no data.\n",
    "    '''\n",
    "    tree=BTree()\n",
    "    if (universe_list is not None and len(universe_list)>0):\n",
    "        my_stack=Stack()\n",
    "        root_node = universe_list[0]\n",
    "        tree.data = root_node\n",
    "        my_stack.push(tree)\n",
    "        for item in range(1, len(universe_list)):\n",
    "            curr_node = my_stack.peek()\n",
    "            new_node = BTree(universe_list[item])\n",
    "            if curr_node.left == None:\n",
    "                curr_node.left = new_node              \n",
    "            else:\n",
    "                if curr_node.right == None:\n",
    "                    curr_node.right = new_node  \n",
    "                    my_stack.pop()\n",
    "            if '?' in universe_list[item]:\n",
    "                my_stack.push(new_node)                \n",
    "\n",
    "                \n",
    "       \n",
    "    return tree"
   ]
  },
  {
   "cell_type": "code",
   "execution_count": 3,
   "metadata": {},
   "outputs": [
    {
     "data": {
      "text/plain": [
       "3"
      ]
     },
     "execution_count": 3,
     "metadata": {},
     "output_type": "execute_result"
    }
   ],
   "source": [
    "st=Stack()\n",
    "st.push(3)\n"
   ]
  },
  {
   "cell_type": "code",
   "execution_count": 3,
   "metadata": {
    "code_folding": [],
    "deletable": false,
    "editable": false,
    "nbgrader": {
     "cell_type": "code",
     "checksum": "aa84b8b8d081fe62072eed1405f26996",
     "grade": true,
     "grade_id": "cell-6adb65a93cadc713",
     "locked": true,
     "points": 0,
     "schema_version": 3,
     "solution": false
    }
   },
   "outputs": [],
   "source": [
    "# AUTOGRADING TEST\n",
    "#You should be able to create a game with no data in it\n",
    "\n",
    "tree=setup()\n",
    "assert(tree.data is None)\n",
    "assert(tree is tree)\n"
   ]
  },
  {
   "cell_type": "code",
   "execution_count": 4,
   "metadata": {
    "code_folding": [
     0
    ]
   },
   "outputs": [
    {
     "name": "stdout",
     "output_type": "stream",
     "text": [
      "    -> White Oak\n",
      "-> Does it produce something edible?\n",
      "        -> Apple Tree\n",
      "    -> Is it tropical?\n",
      "            -> Banana Tree\n",
      "        -> Is it spiky?\n",
      "            -> Pineapple\n"
     ]
    }
   ],
   "source": [
    "universe=[\"Does it produce something edible?\",\n",
    "          \"Is it tropical?\",\n",
    "          \"Is it spiky?\",\n",
    "          \"Pineapple\",\n",
    "          \"Banana Tree\",\n",
    "          \"Apple Tree\",\n",
    "          \"White Oak\"]\n",
    "\n",
    "test=setup(universe)\n",
    "test.print_tree()"
   ]
  },
  {
   "cell_type": "code",
   "execution_count": 5,
   "metadata": {
    "code_folding": [
     0
    ],
    "deletable": false,
    "editable": false,
    "nbgrader": {
     "cell_type": "code",
     "checksum": "622d776d7f9571169b614ec0b9fa34d3",
     "grade": true,
     "grade_id": "cell-48e5b8158450277a",
     "locked": true,
     "points": 0,
     "schema_version": 3,
     "solution": false
    }
   },
   "outputs": [],
   "source": [
    "# AUTOGRADING TEST\n",
    "#Creating a Game with an empty universe should work, but provide an empty tree.\n",
    "\n",
    "empty=[]\n",
    "\n",
    "test_tree=setup(empty)\n",
    "assert(test_tree.data is None)\n",
    "assert(test_tree.left is None and test_tree.right is None)"
   ]
  },
  {
   "cell_type": "code",
   "execution_count": 6,
   "metadata": {
    "code_folding": [
     0
    ],
    "deletable": false,
    "editable": false,
    "nbgrader": {
     "cell_type": "code",
     "checksum": "50e654f7927d47eda244c51ba8d83416",
     "grade": true,
     "grade_id": "cell-6455ee7a464bc7e1",
     "locked": true,
     "points": 0,
     "schema_version": 3,
     "solution": false
    }
   },
   "outputs": [
    {
     "name": "stdout",
     "output_type": "stream",
     "text": [
      "    -> White Oak\n",
      "-> Does it produce something edible?\n",
      "        -> Apple Tree\n",
      "    -> Is it tropical?\n",
      "            -> Banana Tree\n",
      "        -> Is it spiky?\n",
      "            -> Pineapple\n"
     ]
    }
   ],
   "source": [
    "# AUTOGRADING TEST\n",
    "#Test that we can create a Game from a universe\n",
    "\n",
    "universe=[\"Does it produce something edible?\",\n",
    "          \"Is it tropical?\",\n",
    "          \"Is it spiky?\",\n",
    "          \"Pineapple\",\n",
    "          \"Banana Tree\",\n",
    "          \"Apple Tree\",\n",
    "          \"White Oak\"]\n",
    "\n",
    "test=setup(universe)\n",
    "test.print_tree()\n",
    "assert(test.data == \"Does it produce something edible?\"), \"root node isn't correct\""
   ]
  },
  {
   "cell_type": "code",
   "execution_count": 7,
   "metadata": {
    "code_folding": [
     0
    ],
    "deletable": false,
    "editable": false,
    "nbgrader": {
     "cell_type": "code",
     "checksum": "5e09c26fa20ab2fd6116e3d6ee47c7e8",
     "grade": true,
     "grade_id": "cell-81ebe4df22368b0a",
     "locked": true,
     "points": 0,
     "schema_version": 3,
     "solution": false
    }
   },
   "outputs": [],
   "source": [
    "# AUTOGRADING TEST\n",
    "#Test that when we create from an existing list whether the children are populated\n",
    "\n",
    "universe=[\"Does it produce something edible?\",\n",
    "          \"Is it tropical?\",\n",
    "          \"Is it spiky?\",\n",
    "          \"Pineapple\",\n",
    "          \"Banana Tree\",\n",
    "          \"Apple Tree\",\n",
    "          \"White Oak\"]\n",
    "\n",
    "test=setup(universe)\n",
    "\n",
    "c=test.left\n",
    "assert(c.data == \"White Oak\" or c.data==\"Is it tropical?\"), \"Left child is not added correctly\""
   ]
  },
  {
   "cell_type": "code",
   "execution_count": 8,
   "metadata": {
    "code_folding": [
     0
    ],
    "deletable": false,
    "editable": false,
    "nbgrader": {
     "cell_type": "code",
     "checksum": "d22d1a43b5e0aaf90b037077c0ca8821",
     "grade": true,
     "grade_id": "cell-be613a63330d43c6",
     "locked": true,
     "points": 0,
     "schema_version": 3,
     "solution": false
    }
   },
   "outputs": [],
   "source": [
    "# AUTOGRADING TEST\n",
    "#Test that when we create from an existing list whether the children are BOTH populated with the correct options\n",
    "\n",
    "universe=[\"Does it produce something edible?\",\n",
    "          \"Is it tropical?\",\n",
    "          \"Is it spiky?\",\n",
    "          \"Pineapple\",\n",
    "          \"Banana Tree\",\n",
    "          \"Apple Tree\",\n",
    "          \"White Oak\"]\n",
    "\n",
    "test=setup(universe)\n",
    "\n",
    "root=test\n",
    "c=test.left\n",
    "prev_answer=(c.data == \"White Oak\")\n",
    "\n",
    "c=root\n",
    "c=c.right\n",
    "assert(((not prev_answer) and (c.data == \"White Oak\")) or \n",
    "       (prev_answer and (c.data == \"Is it tropical?\"))), \"Both children are not correct\""
   ]
  },
  {
   "cell_type": "code",
   "execution_count": 9,
   "metadata": {
    "code_folding": [
     0
    ],
    "deletable": false,
    "editable": false,
    "nbgrader": {
     "cell_type": "code",
     "checksum": "fe2ee2ba15520c2d7cebccd0ca795efd",
     "grade": true,
     "grade_id": "cell-aa51b3be8ddd101b",
     "locked": true,
     "points": 0,
     "schema_version": 3,
     "solution": false
    }
   },
   "outputs": [],
   "source": [
    "# AUTOGRADING TEST\n",
    "#Test that when we create from an existing list whether an arbitrary element can be reached correctly.\n",
    "\n",
    "universe=[\"Does it produce something edible?\",\n",
    "          \"Is it tropical?\",\n",
    "          \"Is it spiky?\",\n",
    "          \"Pineapple\",\n",
    "          \"Banana Tree\",\n",
    "          \"Apple Tree\",\n",
    "          \"White Oak\"]\n",
    "\n",
    "test=setup(universe)\n",
    "\n",
    "# Note that this code is for testing purposes and is not an example of code you should be writing\n",
    "# to solve any of the problems you need to solve in this assignment\n",
    "root=test\n",
    "curr=test.left\n",
    "left_is_no=(curr.data == \"White Oak\")\n",
    "\n",
    "def test_guess(left_is_no,guess,tree):\n",
    "    if((left_is_no and guess==\"Y\") or ((not left_is_no) and guess==\"N\")):\n",
    "        return tree.right\n",
    "    else:\n",
    "        return tree.left\n",
    "       \n",
    "test=root\n",
    "test=test_guess(left_is_no, \"Y\", test)\n",
    "test=test_guess(left_is_no, \"Y\", test)\n",
    "test=test_guess(left_is_no, \"N\", test)\n",
    "assert(test.data == \"Banana Tree\"), \"Could not navigate to Banana tree correctly\"\n",
    "\n",
    "del test_guess\n"
   ]
  },
  {
   "cell_type": "markdown",
   "metadata": {
    "deletable": false,
    "editable": false,
    "nbgrader": {
     "cell_type": "markdown",
     "checksum": "019370f72675f127f9840a8cbfea8f58",
     "grade": false,
     "grade_id": "cell-918b9f5de8af3e6a",
     "locked": true,
     "schema_version": 3,
     "solution": false
    }
   },
   "source": [
    "## Moving to Next Node\n",
    "\n",
    "The game is going to guess what the user is thinking of, using its tree of data. We need a function that will return to us the next step in our guessing game based on the information the user has given us. For instance, if we are currently looking at a question and the user has told us the answer is \"no\", we should return whatever the next step should be in the \"no\" situation."
   ]
  },
  {
   "cell_type": "code",
   "execution_count": 10,
   "metadata": {
    "code_folding": [],
    "deletable": false,
    "nbgrader": {
     "cell_type": "code",
     "checksum": "d79ef29bff1beda240300a8a5dc7d9f4",
     "grade": false,
     "grade_id": "cell-a292e650f0399ffe",
     "locked": false,
     "schema_version": 3,
     "solution": true
    }
   },
   "outputs": [],
   "source": [
    "def next_node(curr_node,yes_or_no):\n",
    "    '''Updates curr_node to be the next node to look at, depending on if they said yes or no.\n",
    "        yes_or_no holds their guess of y/n\n",
    "        curr_node tells us which node of the tree is the question we are currently guessing on.\n",
    "        This function should return the next node in the game.'''\n",
    "    if yes_or_no == 'Y' or yes_or_no =='yes' or yes_or_no == 'y':\n",
    "        curr_node = curr_node.left\n",
    "        return curr_node\n",
    "    elif yes_or_no == 'N' or yes_or_no =='no' or yes_or_no == 'n':\n",
    "        curr_node = curr_node.right\n",
    "        return curr_node"
   ]
  },
  {
   "cell_type": "code",
   "execution_count": 11,
   "metadata": {
    "code_folding": []
   },
   "outputs": [
    {
     "name": "stdout",
     "output_type": "stream",
     "text": [
      "no\n"
     ]
    }
   ],
   "source": [
    "# test=setup()\n",
    "# test.data=\"Question?\"\n",
    "# test.left=BTree(\"yes\")\n",
    "# test.right=BTree(\"no\")\n",
    "# curr=test\n",
    "# curr=next_node(curr,\"Y\")\n",
    "# print(curr.data)\n",
    "\n",
    "\n",
    "test=setup()\n",
    "test.data=\"Question?\"\n",
    "test.left=BTree(\"yes\")\n",
    "test.right=BTree(\"no\")\n",
    "curr = test\n",
    "curr = next_node(curr,\"N\")\n",
    "print(curr.data)"
   ]
  },
  {
   "cell_type": "code",
   "execution_count": 12,
   "metadata": {
    "code_folding": [],
    "deletable": false,
    "editable": false,
    "nbgrader": {
     "cell_type": "code",
     "checksum": "4e9402fe812d22bcfeebb61664531feb",
     "grade": true,
     "grade_id": "cell-88951eae238d4699",
     "locked": true,
     "points": 0,
     "schema_version": 3,
     "solution": false
    }
   },
   "outputs": [
    {
     "name": "stdout",
     "output_type": "stream",
     "text": [
      "yes\n"
     ]
    }
   ],
   "source": [
    "# AUTOGRADING TEST\n",
    "#Test that guess does not adjust the root of the tree, but does move the current node either left of right.\n",
    "# Code for testing should not be used as an example of how to write your cod\n",
    "\n",
    "test=setup()\n",
    "test.data=\"Question?\"\n",
    "test.left=BTree(\"yes\")\n",
    "test.right=BTree(\"no\")\n",
    "curr=test\n",
    "curr=next_node(curr,\"Y\")\n",
    "print(curr.data)\n",
    "assert(test.data == \"Question?\")\n",
    "assert(curr.data == \"yes\" or curr.data == \"no\")"
   ]
  },
  {
   "cell_type": "code",
   "execution_count": 13,
   "metadata": {
    "code_folding": [],
    "deletable": false,
    "editable": false,
    "nbgrader": {
     "cell_type": "code",
     "checksum": "9de3fb9b4cac765215f9fe366cc5b144",
     "grade": true,
     "grade_id": "cell-e3b5ca713658d9eb",
     "locked": true,
     "points": 0,
     "schema_version": 3,
     "solution": false
    }
   },
   "outputs": [],
   "source": [
    "# AUTOGRADING TEST\n",
    "# Test that guessing Y moves you in a different direction from guessing N\n",
    "# Code for testing should not be used as an example of how to write your code\n",
    "\n",
    "test=setup()\n",
    "test.data=\"Question?\"\n",
    "test.left=BTree(\"yes\")\n",
    "test.right=BTree(\"no\")\n",
    "curr=next_node(test,\"Y\")\n",
    "prev_answer=(curr.data == \"yes\")\n",
    "\n",
    "test=setup()\n",
    "test.data=\"Question?\"\n",
    "test.left=BTree(\"yes\")\n",
    "test.right=BTree(\"no\")\n",
    "curr=next_node(test,\"N\")\n",
    "\n",
    "assert((prev_answer and (curr.data == \"no\")) or ((not prev_answer) and (curr.data == \"yes\"))), \"yes and no are not in different directions\""
   ]
  },
  {
   "cell_type": "markdown",
   "metadata": {
    "deletable": false,
    "editable": false,
    "nbgrader": {
     "cell_type": "markdown",
     "checksum": "e22b38ad2c4c71f4daf93838ca09e7a8",
     "grade": false,
     "grade_id": "cell-dafafd582705fab9",
     "locked": true,
     "schema_version": 3,
     "solution": false
    }
   },
   "source": [
    "## Modifying the Tree \n",
    "\n",
    "In addition to playing the guessing game, we can also increase our knowledge. This function allows us to add onto our tree at our current location. We would only use this function while playing the game.\n",
    "\n",
    "Recall that we need to make sure it is clear when a node is a question node. We need to add our new question node to the tree at the current location, then attach the new yes item, and either a new no item or the old no item we are extending on. Drawing things out on paper can help."
   ]
  },
  {
   "cell_type": "code",
   "execution_count": 23,
   "metadata": {
    "code_folding": [],
    "deletable": false,
    "nbgrader": {
     "cell_type": "code",
     "checksum": "956f165fef33176a34222333eb426fe5",
     "grade": false,
     "grade_id": "cell-b1e87ae3587f715b",
     "locked": false,
     "schema_version": 3,
     "solution": true
    }
   },
   "outputs": [],
   "source": [
    "# this function lets us add on to our tree\n",
    "\n",
    "def add_object(curr_node,question,yes_thing,no_thing=None):\n",
    "    '''Add a new thing to our Universe. If no_thing is None, assume that the current node was an incorrect\n",
    "    guess and is thus the \"No\" answer to the question.\n",
    "    Parameters are:\n",
    "    * curr_node: the node of the tree where the question is to be added.\n",
    "    * question: The question that is to be put at this location.\n",
    "    * yes_thing: The item in the yes child\n",
    "    * no_thing: The item in the no child; if None, then the curr_node's data is the question'''\n",
    "\n",
    "    saved = curr_node.data\n",
    "    if '?' in question:\n",
    "        curr_node.data = question\n",
    "        if no_thing:\n",
    "            curr_node.left = BTree(yes_thing)\n",
    "            curr_node.right = BTree(no_thing)\n",
    "        else:\n",
    "            curr_node.right = BTree(yes_thing)\n",
    "            curr_node.left = BTree(saved)\n"
   ]
  },
  {
   "cell_type": "code",
   "execution_count": 24,
   "metadata": {
    "code_folding": [],
    "deletable": false,
    "editable": false,
    "nbgrader": {
     "cell_type": "code",
     "checksum": "4a881d7cf4f8519c2e3e22ae8b6c3496",
     "grade": true,
     "grade_id": "cell-f89d1d4d96ffa170",
     "locked": true,
     "points": 0,
     "schema_version": 3,
     "solution": false
    }
   },
   "outputs": [
    {
     "name": "stdout",
     "output_type": "stream",
     "text": [
      "    -> no\n",
      "-> Question?\n",
      "    -> yes\n"
     ]
    }
   ],
   "source": [
    "# AUTOGRADING TEST\n",
    "#Test whether add_object works on an empty tree\n",
    "\n",
    "test=setup()\n",
    "add_object(test,\"Question?\", \"yes\", \"no\")\n",
    "test.print_tree()\n",
    "assert(test.data == \"Question?\"), \"question was added as the root\"\n",
    "assert(test.left.data == \"yes\" or test.right.data == \"yes\"), \"yes was added as a child\"\n",
    "assert(test.left.data == \"no\" or test.right.data == \"no\"), \"no was added as a child\""
   ]
  },
  {
   "cell_type": "code",
   "execution_count": 25,
   "metadata": {
    "code_folding": [],
    "deletable": false,
    "editable": false,
    "nbgrader": {
     "cell_type": "code",
     "checksum": "c7219c96db58c7794ef3d667ee62ef65",
     "grade": true,
     "grade_id": "cell-28d0ba95528565f7",
     "locked": true,
     "points": 0,
     "schema_version": 3,
     "solution": false
    }
   },
   "outputs": [
    {
     "name": "stdout",
     "output_type": "stream",
     "text": [
      "    -> no\n",
      "-> Question?\n",
      "        -> new yes\n",
      "    -> New Question?\n",
      "        -> yes\n"
     ]
    }
   ],
   "source": [
    "# AUTOGRADING TEST\n",
    "#Test that add_opbject works as intended with a single parameter\n",
    "\n",
    "test=setup()\n",
    "test.data=\"Question?\"\n",
    "test.left=BTree(\"yes\")\n",
    "test.right=BTree(\"no\")\n",
    "curr=test.left\n",
    "add_object(curr,\"New Question?\", \"new yes\")\n",
    "test.print_tree()\n",
    "assert(test.left.data == \"New Question?\"), \"Did not correctly add new question\"\n",
    "assert((test.left.left.data == \"yes\" and test.left.right.data == \"new yes\") or \\\n",
    "         (test.left.right.data == \"yes\" and test.left.left.data == \"new yes\")), \"did not correct add a new question node with new option\"  "
   ]
  },
  {
   "cell_type": "markdown",
   "metadata": {
    "deletable": false,
    "editable": false,
    "nbgrader": {
     "cell_type": "markdown",
     "checksum": "b836a60c98ffe9b28a29d50fa3d10199",
     "grade": false,
     "grade_id": "cell-0eef4c69091bb4e1",
     "locked": true,
     "schema_version": 3,
     "solution": false
    }
   },
   "source": [
    "The cell below is for you to experiment with your Game functions, and will not be graded."
   ]
  },
  {
   "cell_type": "code",
   "execution_count": null,
   "metadata": {},
   "outputs": [],
   "source": []
  },
  {
   "cell_type": "markdown",
   "metadata": {
    "deletable": false,
    "editable": false,
    "nbgrader": {
     "cell_type": "markdown",
     "checksum": "083b25e6aef5169bc9ff0d72ea957838",
     "grade": false,
     "grade_id": "cell-f46d2aba4f847538",
     "locked": true,
     "schema_version": 3,
     "solution": false,
     "task": false
    }
   },
   "source": [
    "# Time to Play the Game\n",
    "## Game Step 1: Load the game file data into a list\n",
    "The next cell sets up the game by requesting a game file and loading it into the initial_universe list. Note that the first element in the file is actually the name of the game, not part of the game, so should be saved into the universe_name variable instead of the list."
   ]
  },
  {
   "cell_type": "code",
   "execution_count": 17,
   "metadata": {
    "deletable": false,
    "editable": false,
    "nbgrader": {
     "cell_type": "code",
     "checksum": "88f966cb73adeddc3b7d03a82c63aedf",
     "grade": false,
     "grade_id": "cell-91323556aea5ff7e",
     "locked": true,
     "schema_version": 3,
     "solution": false,
     "task": false
    }
   },
   "outputs": [
    {
     "name": "stdout",
     "output_type": "stream",
     "text": [
      "Welcome to the Jumbo Toys 20 Questions game. This game will load a universe of objects and then ask you yes or no questions to figure out what you are thinking about!\n",
      "\n",
      "\n",
      "What universe would you like to load? /data/CS703/animalgame.txt\n"
     ]
    }
   ],
   "source": [
    "# Initial setup of the game\n",
    "\n",
    "print(\"Welcome to the Jumbo Toys 20 Questions game.\", \n",
    "      \"This game will load a universe of objects and\",\n",
    "      \"then ask you yes or no questions to figure out\",\n",
    "      \"what you are thinking about!\\n\\n\")\n",
    "\n",
    "universe_file=input(\"What universe would you like to load? \")"
   ]
  },
  {
   "cell_type": "code",
   "execution_count": 18,
   "metadata": {
    "code_folding": [],
    "deletable": false,
    "nbgrader": {
     "cell_type": "code",
     "checksum": "2c8e201d51121c19ec25fa29688b9f33",
     "grade": false,
     "grade_id": "cell-a2610a58333c8558",
     "locked": false,
     "schema_version": 3,
     "solution": true,
     "task": false
    }
   },
   "outputs": [],
   "source": [
    "# Open the file and read it into the list with basic error handling try/except\n",
    "\n",
    "universe_name = \"\"\n",
    "initial_universe = []\n",
    "\n",
    "with open('/data/CS703/animalgame.txt', \"r\") as animalGame:\n",
    "    for line in animalGame:\n",
    "        line = line.strip('\\n')     \n",
    "        line.split(',')   \n",
    "        initial_universe.append(line)\n",
    "    if '?' not in initial_universe[0]:\n",
    "        initial_universe.remove(initial_universe[0])"
   ]
  },
  {
   "cell_type": "code",
   "execution_count": 19,
   "metadata": {
    "deletable": false,
    "editable": false,
    "nbgrader": {
     "cell_type": "code",
     "checksum": "205c61cdee93fabd89bd23cbdc037ecd",
     "grade": false,
     "grade_id": "cell-0def75aa72b2992a",
     "locked": true,
     "schema_version": 3,
     "solution": false,
     "task": false
    },
    "scrolled": true
   },
   "outputs": [
    {
     "name": "stdout",
     "output_type": "stream",
     "text": [
      "\n",
      "['Is it a mammal?', 'Does it eat meat?', 'Does it have stripes?', 'Tiger', 'Does it have a domesticated cousin?', 'Wolf', 'Bear', 'Does it have tusks?', 'Elephant', 'Does it have a long neck?', 'Giraffe', 'Does it live in the water?', 'Whale', 'Rabbit', 'Does it have legs?', 'Does it have teeth?', 'Crocodile', 'Frog', 'Does it live in the water?', 'Fish', 'Snake']\n"
     ]
    }
   ],
   "source": [
    "# tests to check file was read correctly\n",
    "print(universe_name)\n",
    "print(initial_universe)#debugging for grading"
   ]
  },
  {
   "cell_type": "code",
   "execution_count": 20,
   "metadata": {
    "scrolled": true
   },
   "outputs": [
    {
     "name": "stdout",
     "output_type": "stream",
     "text": [
      "21\n"
     ]
    }
   ],
   "source": [
    "print(len(initial_universe))"
   ]
  },
  {
   "cell_type": "markdown",
   "metadata": {
    "deletable": false,
    "editable": false,
    "nbgrader": {
     "cell_type": "markdown",
     "checksum": "6249b9c450f896776eef2e83df14f4be",
     "grade": false,
     "grade_id": "cell-cb69be1bf78b421b",
     "locked": true,
     "schema_version": 3,
     "solution": false,
     "task": false
    }
   },
   "source": [
    "## Game Step 2: The actual game\n",
    "\n",
    "Now we finally have everything set up, and we can play the game!\n",
    "\n",
    "Pay attention to the comments that tell you want you need to add to the loop. You have 4 steps to add in:\n",
    "\n",
    "1. Tell the user the name of the universe\n",
    "2. Play the game\n",
    "3. Add in new information if the game guessed the wrong item\n",
    "4. reset the game once it's over so that it can be played again."
   ]
  },
  {
   "cell_type": "markdown",
   "metadata": {
    "deletable": false,
    "editable": false,
    "nbgrader": {
     "cell_type": "markdown",
     "checksum": "a8082ff7dd42275207bd41b9365a5a9f",
     "grade": false,
     "grade_id": "cell-dae89c3502ef51cc",
     "locked": true,
     "schema_version": 3,
     "solution": false
    }
   },
   "source": [
    "### User Interface \n",
    "\n",
    "I have provided a function that will help you take in yes or no input from the user in a safe way. "
   ]
  },
  {
   "cell_type": "code",
   "execution_count": 21,
   "metadata": {
    "deletable": false,
    "editable": false,
    "nbgrader": {
     "cell_type": "code",
     "checksum": "fd0c098f1dc565ce1ff7ef6ca50616a8",
     "grade": false,
     "grade_id": "cell-5b13110ce047a368",
     "locked": true,
     "schema_version": 3,
     "solution": false
    }
   },
   "outputs": [],
   "source": [
    "def get_y_or_n(inputstring):\n",
    "    '''Returns y or n (lowercase) according to user input. Keeps prompting if y or n is not given.\n",
    "    Input string is the intitial prompt for the user.'''\n",
    "    print(\"\",end=\"\")\n",
    "    return_string=input(inputstring)[0:1].lower()\n",
    "    while(return_string != \"y\" and return_string != \"n\"):\n",
    "        return_string=input(\"Please answer Y or N: \")[0:1].lower()\n",
    "        \n",
    "    return return_string"
   ]
  },
  {
   "cell_type": "code",
   "execution_count": null,
   "metadata": {
    "code_folding": [],
    "deletable": false,
    "nbgrader": {
     "cell_type": "code",
     "checksum": "bfd5e94d551a704bbb8ce58a017941f4",
     "grade": false,
     "grade_id": "cell-f37858e27905b6af",
     "locked": false,
     "schema_version": 3,
     "solution": true,
     "task": false
    }
   },
   "outputs": [
    {
     "name": "stdout",
     "output_type": "stream",
     "text": [
      "Think of an animal and I will try to guess it!\n",
      "Is it a mammal?\n",
      "Y/N: y\n",
      "Does it eat meat?\n",
      "Y/N: y\n",
      "Does it have stripes?\n",
      "Y/N: y\n",
      "I think I got it! Tiger ?\n",
      "Am I right? n\n",
      "Oh no! What is it?taz\n",
      "Please enter in a question where Tiger would be No and taz would be yes: does it live in australia?\n",
      "\n",
      "Play again? y\n",
      "Think of an animal and I will try to guess it!\n",
      "Is it a mammal?\n",
      "Y/N: y\n",
      "Does it eat meat?\n",
      "Y/N: y\n",
      "Does it have stripes?\n",
      "Y/N: y\n",
      "does it live in australia?\n",
      "Y/N: y\n",
      "I think I got it! taz ?\n",
      "Am I right? y\n",
      "I guessed it!\n"
     ]
    }
   ],
   "source": [
    "#Initialize the game by calling setup\n",
    "my_game=setup(initial_universe)\n",
    "current = my_game # keep track of where we are in the game tree\n",
    "\n",
    "# Keep playing the game as long as the user is still interested in playing\n",
    "playagain=\"y\"\n",
    "while(playagain==\"y\"):\n",
    "    # Tell user what universe they are guessing from\n",
    "    print(\"Think of an animal and I will try to guess it!\")\n",
    " \n",
    "    # Actually play the game\n",
    "    # Until you've hit an answer, keep asking the user questions and moving \n",
    "    # through the tree based on their answers.\n",
    "    while '?' in current.data:\n",
    "        print(current.data)\n",
    "        YN = get_y_or_n(\"Y/N: \")\n",
    "        current = next_node(current, YN) \n",
    "       \n",
    "    # Once you've hit an answer, output what you think it is.\n",
    "    if '?' not in current.data:\n",
    "        print(\"I think I got it!\", current.data,\"?\")\n",
    "    \n",
    "    userin = get_y_or_n(\"Am I right? \")\n",
    "    if(userin == \"n\"):\n",
    "#         #Oops, the game guessed wrong. Add a new item at this spot in the tree, getting info from user!\n",
    "        new_item = input(\"Oh no! What is it?\").strip()\n",
    "        question = input('Please enter in a question where '+ current.data+ ' would be No and '+new_item+ ' would be yes: ')\n",
    "        add_object(current, question, new_item, current.data)\n",
    "    else:\n",
    "        print(\"I guessed it!\")\n",
    "        \n",
    "    #Get ready to play again by resetting the game\n",
    "    current = my_game\n",
    "    \n",
    "    playagain = get_y_or_n(\"\\nPlay again? \")"
   ]
  },
  {
   "cell_type": "code",
   "execution_count": null,
   "metadata": {},
   "outputs": [],
   "source": [
    "my_game.print_tree()"
   ]
  },
  {
   "cell_type": "markdown",
   "metadata": {
    "deletable": false,
    "editable": false,
    "nbgrader": {
     "cell_type": "markdown",
     "checksum": "6edee13f2a0a57dae7aaab0b5b0c413a",
     "grade": false,
     "grade_id": "cell-06fca103f7d3b372",
     "locked": true,
     "schema_version": 3,
     "solution": false,
     "task": false
    }
   },
   "source": [
    "# Grading\n",
    "\n",
    "The cell below is to hold your grade on the assignment. The number has no meaning, but is used to represent the letter:\n",
    "\n",
    "* 3: E\n",
    "* 2: M\n",
    "* 1: R\n",
    "* 0: N"
   ]
  },
  {
   "cell_type": "code",
   "execution_count": null,
   "metadata": {
    "deletable": false,
    "nbgrader": {
     "cell_type": "markdown",
     "checksum": "5781db3524c1fb84c739aca95b66424a",
     "grade": true,
     "grade_id": "cell-244439e81064d90f",
     "locked": false,
     "points": 3,
     "schema_version": 3,
     "solution": true
    }
   },
   "outputs": [],
   "source": []
  },
  {
   "cell_type": "code",
   "execution_count": null,
   "metadata": {},
   "outputs": [],
   "source": []
  },
  {
   "cell_type": "code",
   "execution_count": null,
   "metadata": {},
   "outputs": [],
   "source": []
  },
  {
   "cell_type": "code",
   "execution_count": null,
   "metadata": {},
   "outputs": [],
   "source": []
  }
 ],
 "metadata": {
  "kernelspec": {
   "display_name": "Python 3.10 (CS703f22)",
   "language": "python",
   "name": "python3.10_cs703"
  },
  "language_info": {
   "codemirror_mode": {
    "name": "ipython",
    "version": 3
   },
   "file_extension": ".py",
   "mimetype": "text/x-python",
   "name": "python",
   "nbconvert_exporter": "python",
   "pygments_lexer": "ipython3",
   "version": "3.10.4"
  },
  "varInspector": {
   "cols": {
    "lenName": 16,
    "lenType": 16,
    "lenVar": 40
   },
   "kernels_config": {
    "python": {
     "delete_cmd_postfix": "",
     "delete_cmd_prefix": "del ",
     "library": "var_list.py",
     "varRefreshCmd": "print(var_dic_list())"
    },
    "r": {
     "delete_cmd_postfix": ") ",
     "delete_cmd_prefix": "rm(",
     "library": "var_list.r",
     "varRefreshCmd": "cat(var_dic_list()) "
    }
   },
   "types_to_exclude": [
    "module",
    "function",
    "builtin_function_or_method",
    "instance",
    "_Feature"
   ],
   "window_display": false
  }
 },
 "nbformat": 4,
 "nbformat_minor": 2
}
