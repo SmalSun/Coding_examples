{
 "cells": [
  {
   "cell_type": "markdown",
   "metadata": {
    "deletable": false,
    "editable": false,
    "nbgrader": {
     "cell_type": "markdown",
     "checksum": "7fbdd5e2ec5212c891273b53dcedd53e",
     "grade": false,
     "grade_id": "cell-bed961b037211d30",
     "locked": true,
     "schema_version": 3,
     "solution": false,
     "task": false
    }
   },
   "source": [
    "# Assignment 4: Pandas Missing Values and Plotting\n",
    "\n",
    "In this notebook we will practice using the new Pandas functions covered this week, as well as some of what you learned previously.\n",
    "\n",
    "You are analyzing data from \"Frog Racing\", a car racing group out of Massachusetts (\"Frog\" is part of their name; they aren't racing frogs). This data is from one of their cars during a 2015 race. The data is in the file `/data/CS703/racecar.csv`.\n",
    "\n",
    "\n",
    "## Reading in Data \n",
    "\n",
    "First import any values you need, and then read the csv into a dataframe."
   ]
  },
  {
   "cell_type": "code",
   "execution_count": 1,
   "metadata": {
    "deletable": false,
    "nbgrader": {
     "cell_type": "code",
     "checksum": "915c3c4110338001177d437c5aaefa32",
     "grade": false,
     "grade_id": "cell-41879e12696392cc",
     "locked": false,
     "schema_version": 3,
     "solution": true,
     "task": false
    }
   },
   "outputs": [],
   "source": [
    "import pandas as pd\n",
    "df = pd.read_csv('/data/CS703/racecar.csv')\n",
    "import matplotlib.pyplot as plt\n",
    "%matplotlib inline"
   ]
  },
  {
   "cell_type": "markdown",
   "metadata": {
    "deletable": false,
    "editable": false,
    "nbgrader": {
     "cell_type": "markdown",
     "checksum": "8bf685a28ad98216e151b327ac94574d",
     "grade": false,
     "grade_id": "cell-16d418dcb0f1b5cb",
     "locked": true,
     "schema_version": 3,
     "solution": false,
     "task": false
    }
   },
   "source": [
    "Output information about the file, such as the columns and their types, as well as the number of rows. You should be able to output that information by calling a single function."
   ]
  },
  {
   "cell_type": "code",
   "execution_count": 2,
   "metadata": {
    "deletable": false,
    "nbgrader": {
     "cell_type": "code",
     "checksum": "12792764bf0357a276e5e1bfed407df7",
     "grade": false,
     "grade_id": "cell-159176d3b8ad18f1",
     "locked": false,
     "schema_version": 3,
     "solution": true,
     "task": false
    }
   },
   "outputs": [
    {
     "name": "stdout",
     "output_type": "stream",
     "text": [
      "<class 'pandas.core.frame.DataFrame'>\n",
      "RangeIndex: 49467 entries, 0 to 49466\n",
      "Data columns (total 15 columns):\n",
      " #   Column                            Non-Null Count  Dtype  \n",
      "---  ------                            --------------  -----  \n",
      " 0   timestamp(s)                      49467 non-null  int64  \n",
      " 1   lap                               36398 non-null  float64\n",
      " 2   speed(m/s)                        49467 non-null  float64\n",
      " 3   altitude(m)                       49467 non-null  float64\n",
      " 4   bearing(deg)                      36602 non-null  float64\n",
      " 5   lateral acceleration(m/s^2)       36386 non-null  float64\n",
      " 6   longitudinal acceleration(m/s^2)  49467 non-null  float64\n",
      " 7   distance(m)                       49467 non-null  float64\n",
      " 8   latitude(deg)                     49467 non-null  float64\n",
      " 9   longitude(deg)                    49467 non-null  float64\n",
      " 10  speedOBD(m/s)                     46778 non-null  float64\n",
      " 11  RPM                               46777 non-null  float64\n",
      " 12  throttle position                 46770 non-null  float64\n",
      " 13  coolant temp(C)                   46676 non-null  float64\n",
      " 14  intake temp(C)                    46585 non-null  float64\n",
      "dtypes: float64(14), int64(1)\n",
      "memory usage: 5.7 MB\n"
     ]
    }
   ],
   "source": [
    "df.info()"
   ]
  },
  {
   "cell_type": "code",
   "execution_count": null,
   "metadata": {},
   "outputs": [],
   "source": []
  },
  {
   "cell_type": "markdown",
   "metadata": {
    "deletable": false,
    "editable": false,
    "nbgrader": {
     "cell_type": "markdown",
     "checksum": "8985ef34376545b90ac6363e07c072d9",
     "grade": false,
     "grade_id": "cell-e56aee9e8fcc94cd",
     "locked": true,
     "schema_version": 3,
     "solution": false,
     "task": false
    }
   },
   "source": [
    "The following columns will not be useful, so drop them from the dataframe:\n",
    "* bearing\n",
    "* throttle position\n",
    "* coolant temperature\n",
    "* intake temperature"
   ]
  },
  {
   "cell_type": "code",
   "execution_count": 3,
   "metadata": {
    "deletable": false,
    "nbgrader": {
     "cell_type": "code",
     "checksum": "d687fb869e6d5fd2c01b552caaeee5c5",
     "grade": false,
     "grade_id": "cell-0eb5b176671766fb",
     "locked": false,
     "schema_version": 3,
     "solution": true,
     "task": false
    }
   },
   "outputs": [],
   "source": [
    "dfFixed = df.drop(columns = ['intake temp(C)', 'coolant temp(C)', 'bearing(deg)', 'throttle position'])"
   ]
  },
  {
   "cell_type": "markdown",
   "metadata": {
    "deletable": false,
    "editable": false,
    "nbgrader": {
     "cell_type": "markdown",
     "checksum": "b8d7fe1e0261bda596189dd447471152",
     "grade": false,
     "grade_id": "cell-dda08fe33d4b153a",
     "locked": true,
     "schema_version": 3,
     "solution": false,
     "task": false
    }
   },
   "source": [
    "Output the first 50 rows of the dataset."
   ]
  },
  {
   "cell_type": "code",
   "execution_count": 4,
   "metadata": {
    "deletable": false,
    "nbgrader": {
     "cell_type": "code",
     "checksum": "1832e5e09db0454c3a0da891f17d61d1",
     "grade": false,
     "grade_id": "cell-de1129b8ffd72204",
     "locked": false,
     "schema_version": 3,
     "solution": true,
     "task": false
    }
   },
   "outputs": [
    {
     "data": {
      "text/html": [
       "<div>\n",
       "<style scoped>\n",
       "    .dataframe tbody tr th:only-of-type {\n",
       "        vertical-align: middle;\n",
       "    }\n",
       "\n",
       "    .dataframe tbody tr th {\n",
       "        vertical-align: top;\n",
       "    }\n",
       "\n",
       "    .dataframe thead th {\n",
       "        text-align: right;\n",
       "    }\n",
       "</style>\n",
       "<table border=\"1\" class=\"dataframe\">\n",
       "  <thead>\n",
       "    <tr style=\"text-align: right;\">\n",
       "      <th></th>\n",
       "      <th>timestamp(s)</th>\n",
       "      <th>lap</th>\n",
       "      <th>speed(m/s)</th>\n",
       "      <th>altitude(m)</th>\n",
       "      <th>lateral acceleration(m/s^2)</th>\n",
       "      <th>longitudinal acceleration(m/s^2)</th>\n",
       "      <th>distance(m)</th>\n",
       "      <th>latitude(deg)</th>\n",
       "      <th>longitude(deg)</th>\n",
       "      <th>speedOBD(m/s)</th>\n",
       "      <th>RPM</th>\n",
       "    </tr>\n",
       "  </thead>\n",
       "  <tbody>\n",
       "    <tr>\n",
       "      <th>0</th>\n",
       "      <td>1425826967</td>\n",
       "      <td>NaN</td>\n",
       "      <td>0.005</td>\n",
       "      <td>365.8</td>\n",
       "      <td>0.0</td>\n",
       "      <td>-0.049</td>\n",
       "      <td>0.000</td>\n",
       "      <td>42.629610</td>\n",
       "      <td>-74.079537</td>\n",
       "      <td>NaN</td>\n",
       "      <td>NaN</td>\n",
       "    </tr>\n",
       "    <tr>\n",
       "      <th>1</th>\n",
       "      <td>1425826967</td>\n",
       "      <td>NaN</td>\n",
       "      <td>0.000</td>\n",
       "      <td>365.8</td>\n",
       "      <td>0.0</td>\n",
       "      <td>-0.049</td>\n",
       "      <td>0.000</td>\n",
       "      <td>42.629610</td>\n",
       "      <td>-74.079537</td>\n",
       "      <td>NaN</td>\n",
       "      <td>NaN</td>\n",
       "    </tr>\n",
       "    <tr>\n",
       "      <th>2</th>\n",
       "      <td>1425826967</td>\n",
       "      <td>NaN</td>\n",
       "      <td>0.015</td>\n",
       "      <td>365.9</td>\n",
       "      <td>0.0</td>\n",
       "      <td>0.150</td>\n",
       "      <td>0.000</td>\n",
       "      <td>42.629610</td>\n",
       "      <td>-74.079537</td>\n",
       "      <td>NaN</td>\n",
       "      <td>NaN</td>\n",
       "    </tr>\n",
       "    <tr>\n",
       "      <th>3</th>\n",
       "      <td>1425826967</td>\n",
       "      <td>NaN</td>\n",
       "      <td>0.010</td>\n",
       "      <td>365.9</td>\n",
       "      <td>0.0</td>\n",
       "      <td>-0.049</td>\n",
       "      <td>0.000</td>\n",
       "      <td>42.629610</td>\n",
       "      <td>-74.079537</td>\n",
       "      <td>NaN</td>\n",
       "      <td>NaN</td>\n",
       "    </tr>\n",
       "    <tr>\n",
       "      <th>4</th>\n",
       "      <td>1425826967</td>\n",
       "      <td>NaN</td>\n",
       "      <td>0.015</td>\n",
       "      <td>366.0</td>\n",
       "      <td>0.0</td>\n",
       "      <td>0.050</td>\n",
       "      <td>0.000</td>\n",
       "      <td>42.629610</td>\n",
       "      <td>-74.079537</td>\n",
       "      <td>NaN</td>\n",
       "      <td>NaN</td>\n",
       "    </tr>\n",
       "    <tr>\n",
       "      <th>5</th>\n",
       "      <td>1425826967</td>\n",
       "      <td>NaN</td>\n",
       "      <td>0.021</td>\n",
       "      <td>366.1</td>\n",
       "      <td>0.0</td>\n",
       "      <td>0.060</td>\n",
       "      <td>0.000</td>\n",
       "      <td>42.629610</td>\n",
       "      <td>-74.079537</td>\n",
       "      <td>NaN</td>\n",
       "      <td>NaN</td>\n",
       "    </tr>\n",
       "    <tr>\n",
       "      <th>6</th>\n",
       "      <td>1425826967</td>\n",
       "      <td>NaN</td>\n",
       "      <td>0.015</td>\n",
       "      <td>366.1</td>\n",
       "      <td>0.0</td>\n",
       "      <td>-0.059</td>\n",
       "      <td>0.185</td>\n",
       "      <td>42.629608</td>\n",
       "      <td>-74.079537</td>\n",
       "      <td>NaN</td>\n",
       "      <td>NaN</td>\n",
       "    </tr>\n",
       "    <tr>\n",
       "      <th>7</th>\n",
       "      <td>1425826967</td>\n",
       "      <td>NaN</td>\n",
       "      <td>0.010</td>\n",
       "      <td>366.1</td>\n",
       "      <td>0.0</td>\n",
       "      <td>-0.049</td>\n",
       "      <td>0.185</td>\n",
       "      <td>42.629608</td>\n",
       "      <td>-74.079537</td>\n",
       "      <td>NaN</td>\n",
       "      <td>NaN</td>\n",
       "    </tr>\n",
       "    <tr>\n",
       "      <th>8</th>\n",
       "      <td>1425826968</td>\n",
       "      <td>NaN</td>\n",
       "      <td>0.021</td>\n",
       "      <td>366.1</td>\n",
       "      <td>0.0</td>\n",
       "      <td>0.110</td>\n",
       "      <td>0.185</td>\n",
       "      <td>42.629608</td>\n",
       "      <td>-74.079537</td>\n",
       "      <td>NaN</td>\n",
       "      <td>NaN</td>\n",
       "    </tr>\n",
       "    <tr>\n",
       "      <th>9</th>\n",
       "      <td>1425826968</td>\n",
       "      <td>NaN</td>\n",
       "      <td>0.010</td>\n",
       "      <td>366.1</td>\n",
       "      <td>0.0</td>\n",
       "      <td>-0.109</td>\n",
       "      <td>0.185</td>\n",
       "      <td>42.629608</td>\n",
       "      <td>-74.079537</td>\n",
       "      <td>NaN</td>\n",
       "      <td>NaN</td>\n",
       "    </tr>\n",
       "    <tr>\n",
       "      <th>10</th>\n",
       "      <td>1425826968</td>\n",
       "      <td>NaN</td>\n",
       "      <td>0.015</td>\n",
       "      <td>366.1</td>\n",
       "      <td>0.0</td>\n",
       "      <td>0.050</td>\n",
       "      <td>0.371</td>\n",
       "      <td>42.629607</td>\n",
       "      <td>-74.079537</td>\n",
       "      <td>NaN</td>\n",
       "      <td>NaN</td>\n",
       "    </tr>\n",
       "    <tr>\n",
       "      <th>11</th>\n",
       "      <td>1425826968</td>\n",
       "      <td>NaN</td>\n",
       "      <td>0.015</td>\n",
       "      <td>366.2</td>\n",
       "      <td>0.0</td>\n",
       "      <td>0.000</td>\n",
       "      <td>0.371</td>\n",
       "      <td>42.629607</td>\n",
       "      <td>-74.079537</td>\n",
       "      <td>NaN</td>\n",
       "      <td>NaN</td>\n",
       "    </tr>\n",
       "    <tr>\n",
       "      <th>12</th>\n",
       "      <td>1425826968</td>\n",
       "      <td>NaN</td>\n",
       "      <td>0.026</td>\n",
       "      <td>366.2</td>\n",
       "      <td>0.0</td>\n",
       "      <td>0.110</td>\n",
       "      <td>0.371</td>\n",
       "      <td>42.629607</td>\n",
       "      <td>-74.079537</td>\n",
       "      <td>NaN</td>\n",
       "      <td>NaN</td>\n",
       "    </tr>\n",
       "    <tr>\n",
       "      <th>13</th>\n",
       "      <td>1425826968</td>\n",
       "      <td>NaN</td>\n",
       "      <td>0.026</td>\n",
       "      <td>366.3</td>\n",
       "      <td>0.0</td>\n",
       "      <td>0.000</td>\n",
       "      <td>0.371</td>\n",
       "      <td>42.629607</td>\n",
       "      <td>-74.079537</td>\n",
       "      <td>NaN</td>\n",
       "      <td>NaN</td>\n",
       "    </tr>\n",
       "    <tr>\n",
       "      <th>14</th>\n",
       "      <td>1425826968</td>\n",
       "      <td>NaN</td>\n",
       "      <td>0.021</td>\n",
       "      <td>366.4</td>\n",
       "      <td>0.0</td>\n",
       "      <td>-0.049</td>\n",
       "      <td>0.556</td>\n",
       "      <td>42.629605</td>\n",
       "      <td>-74.079537</td>\n",
       "      <td>NaN</td>\n",
       "      <td>NaN</td>\n",
       "    </tr>\n",
       "    <tr>\n",
       "      <th>15</th>\n",
       "      <td>1425826968</td>\n",
       "      <td>NaN</td>\n",
       "      <td>0.021</td>\n",
       "      <td>366.5</td>\n",
       "      <td>0.0</td>\n",
       "      <td>0.000</td>\n",
       "      <td>0.556</td>\n",
       "      <td>42.629605</td>\n",
       "      <td>-74.079537</td>\n",
       "      <td>NaN</td>\n",
       "      <td>NaN</td>\n",
       "    </tr>\n",
       "    <tr>\n",
       "      <th>16</th>\n",
       "      <td>1425826968</td>\n",
       "      <td>NaN</td>\n",
       "      <td>0.015</td>\n",
       "      <td>366.6</td>\n",
       "      <td>0.0</td>\n",
       "      <td>-0.059</td>\n",
       "      <td>0.556</td>\n",
       "      <td>42.629605</td>\n",
       "      <td>-74.079537</td>\n",
       "      <td>NaN</td>\n",
       "      <td>NaN</td>\n",
       "    </tr>\n",
       "    <tr>\n",
       "      <th>17</th>\n",
       "      <td>1425826968</td>\n",
       "      <td>NaN</td>\n",
       "      <td>0.031</td>\n",
       "      <td>366.7</td>\n",
       "      <td>0.0</td>\n",
       "      <td>0.160</td>\n",
       "      <td>0.556</td>\n",
       "      <td>42.629605</td>\n",
       "      <td>-74.079537</td>\n",
       "      <td>NaN</td>\n",
       "      <td>NaN</td>\n",
       "    </tr>\n",
       "    <tr>\n",
       "      <th>18</th>\n",
       "      <td>1425826969</td>\n",
       "      <td>NaN</td>\n",
       "      <td>0.021</td>\n",
       "      <td>366.8</td>\n",
       "      <td>0.0</td>\n",
       "      <td>-0.099</td>\n",
       "      <td>0.556</td>\n",
       "      <td>42.629605</td>\n",
       "      <td>-74.079537</td>\n",
       "      <td>NaN</td>\n",
       "      <td>NaN</td>\n",
       "    </tr>\n",
       "    <tr>\n",
       "      <th>19</th>\n",
       "      <td>1425826969</td>\n",
       "      <td>NaN</td>\n",
       "      <td>0.036</td>\n",
       "      <td>366.9</td>\n",
       "      <td>0.0</td>\n",
       "      <td>0.150</td>\n",
       "      <td>0.741</td>\n",
       "      <td>42.629603</td>\n",
       "      <td>-74.079537</td>\n",
       "      <td>NaN</td>\n",
       "      <td>NaN</td>\n",
       "    </tr>\n",
       "    <tr>\n",
       "      <th>20</th>\n",
       "      <td>1425826969</td>\n",
       "      <td>NaN</td>\n",
       "      <td>0.026</td>\n",
       "      <td>367.0</td>\n",
       "      <td>0.0</td>\n",
       "      <td>-0.099</td>\n",
       "      <td>0.741</td>\n",
       "      <td>42.629603</td>\n",
       "      <td>-74.079537</td>\n",
       "      <td>NaN</td>\n",
       "      <td>NaN</td>\n",
       "    </tr>\n",
       "    <tr>\n",
       "      <th>21</th>\n",
       "      <td>1425826969</td>\n",
       "      <td>NaN</td>\n",
       "      <td>0.021</td>\n",
       "      <td>367.1</td>\n",
       "      <td>0.0</td>\n",
       "      <td>-0.049</td>\n",
       "      <td>0.741</td>\n",
       "      <td>42.629603</td>\n",
       "      <td>-74.079537</td>\n",
       "      <td>NaN</td>\n",
       "      <td>NaN</td>\n",
       "    </tr>\n",
       "    <tr>\n",
       "      <th>22</th>\n",
       "      <td>1425826969</td>\n",
       "      <td>NaN</td>\n",
       "      <td>0.031</td>\n",
       "      <td>367.1</td>\n",
       "      <td>0.0</td>\n",
       "      <td>0.100</td>\n",
       "      <td>0.741</td>\n",
       "      <td>42.629603</td>\n",
       "      <td>-74.079537</td>\n",
       "      <td>NaN</td>\n",
       "      <td>NaN</td>\n",
       "    </tr>\n",
       "    <tr>\n",
       "      <th>23</th>\n",
       "      <td>1425826969</td>\n",
       "      <td>NaN</td>\n",
       "      <td>0.031</td>\n",
       "      <td>367.2</td>\n",
       "      <td>0.0</td>\n",
       "      <td>0.000</td>\n",
       "      <td>0.741</td>\n",
       "      <td>42.629603</td>\n",
       "      <td>-74.079537</td>\n",
       "      <td>NaN</td>\n",
       "      <td>NaN</td>\n",
       "    </tr>\n",
       "    <tr>\n",
       "      <th>24</th>\n",
       "      <td>1425826969</td>\n",
       "      <td>NaN</td>\n",
       "      <td>0.036</td>\n",
       "      <td>367.2</td>\n",
       "      <td>0.0</td>\n",
       "      <td>0.050</td>\n",
       "      <td>0.741</td>\n",
       "      <td>42.629603</td>\n",
       "      <td>-74.079537</td>\n",
       "      <td>NaN</td>\n",
       "      <td>NaN</td>\n",
       "    </tr>\n",
       "    <tr>\n",
       "      <th>25</th>\n",
       "      <td>1425826969</td>\n",
       "      <td>NaN</td>\n",
       "      <td>0.026</td>\n",
       "      <td>367.2</td>\n",
       "      <td>0.0</td>\n",
       "      <td>-0.099</td>\n",
       "      <td>0.741</td>\n",
       "      <td>42.629603</td>\n",
       "      <td>-74.079537</td>\n",
       "      <td>NaN</td>\n",
       "      <td>NaN</td>\n",
       "    </tr>\n",
       "    <tr>\n",
       "      <th>26</th>\n",
       "      <td>1425826969</td>\n",
       "      <td>NaN</td>\n",
       "      <td>0.031</td>\n",
       "      <td>367.2</td>\n",
       "      <td>0.0</td>\n",
       "      <td>0.050</td>\n",
       "      <td>0.741</td>\n",
       "      <td>42.629603</td>\n",
       "      <td>-74.079537</td>\n",
       "      <td>NaN</td>\n",
       "      <td>NaN</td>\n",
       "    </tr>\n",
       "    <tr>\n",
       "      <th>27</th>\n",
       "      <td>1425826969</td>\n",
       "      <td>NaN</td>\n",
       "      <td>0.026</td>\n",
       "      <td>367.2</td>\n",
       "      <td>0.0</td>\n",
       "      <td>-0.049</td>\n",
       "      <td>0.741</td>\n",
       "      <td>42.629603</td>\n",
       "      <td>-74.079537</td>\n",
       "      <td>NaN</td>\n",
       "      <td>NaN</td>\n",
       "    </tr>\n",
       "    <tr>\n",
       "      <th>28</th>\n",
       "      <td>1425826970</td>\n",
       "      <td>NaN</td>\n",
       "      <td>0.036</td>\n",
       "      <td>367.2</td>\n",
       "      <td>0.0</td>\n",
       "      <td>0.100</td>\n",
       "      <td>0.741</td>\n",
       "      <td>42.629603</td>\n",
       "      <td>-74.079537</td>\n",
       "      <td>NaN</td>\n",
       "      <td>NaN</td>\n",
       "    </tr>\n",
       "    <tr>\n",
       "      <th>29</th>\n",
       "      <td>1425826970</td>\n",
       "      <td>NaN</td>\n",
       "      <td>0.036</td>\n",
       "      <td>367.2</td>\n",
       "      <td>0.0</td>\n",
       "      <td>0.000</td>\n",
       "      <td>0.741</td>\n",
       "      <td>42.629603</td>\n",
       "      <td>-74.079537</td>\n",
       "      <td>NaN</td>\n",
       "      <td>NaN</td>\n",
       "    </tr>\n",
       "    <tr>\n",
       "      <th>30</th>\n",
       "      <td>1425826970</td>\n",
       "      <td>NaN</td>\n",
       "      <td>0.031</td>\n",
       "      <td>367.2</td>\n",
       "      <td>0.0</td>\n",
       "      <td>-0.049</td>\n",
       "      <td>0.741</td>\n",
       "      <td>42.629603</td>\n",
       "      <td>-74.079537</td>\n",
       "      <td>NaN</td>\n",
       "      <td>NaN</td>\n",
       "    </tr>\n",
       "    <tr>\n",
       "      <th>31</th>\n",
       "      <td>1425826970</td>\n",
       "      <td>NaN</td>\n",
       "      <td>0.026</td>\n",
       "      <td>367.3</td>\n",
       "      <td>0.0</td>\n",
       "      <td>-0.049</td>\n",
       "      <td>0.741</td>\n",
       "      <td>42.629603</td>\n",
       "      <td>-74.079537</td>\n",
       "      <td>NaN</td>\n",
       "      <td>NaN</td>\n",
       "    </tr>\n",
       "    <tr>\n",
       "      <th>32</th>\n",
       "      <td>1425826970</td>\n",
       "      <td>NaN</td>\n",
       "      <td>0.031</td>\n",
       "      <td>367.3</td>\n",
       "      <td>0.0</td>\n",
       "      <td>0.050</td>\n",
       "      <td>0.741</td>\n",
       "      <td>42.629603</td>\n",
       "      <td>-74.079537</td>\n",
       "      <td>NaN</td>\n",
       "      <td>NaN</td>\n",
       "    </tr>\n",
       "    <tr>\n",
       "      <th>33</th>\n",
       "      <td>1425826970</td>\n",
       "      <td>NaN</td>\n",
       "      <td>0.031</td>\n",
       "      <td>367.3</td>\n",
       "      <td>0.0</td>\n",
       "      <td>0.000</td>\n",
       "      <td>0.741</td>\n",
       "      <td>42.629603</td>\n",
       "      <td>-74.079537</td>\n",
       "      <td>NaN</td>\n",
       "      <td>NaN</td>\n",
       "    </tr>\n",
       "    <tr>\n",
       "      <th>34</th>\n",
       "      <td>1425826970</td>\n",
       "      <td>NaN</td>\n",
       "      <td>0.036</td>\n",
       "      <td>367.3</td>\n",
       "      <td>0.0</td>\n",
       "      <td>0.050</td>\n",
       "      <td>0.741</td>\n",
       "      <td>42.629603</td>\n",
       "      <td>-74.079537</td>\n",
       "      <td>NaN</td>\n",
       "      <td>NaN</td>\n",
       "    </tr>\n",
       "    <tr>\n",
       "      <th>35</th>\n",
       "      <td>1425826970</td>\n",
       "      <td>NaN</td>\n",
       "      <td>0.036</td>\n",
       "      <td>367.3</td>\n",
       "      <td>0.0</td>\n",
       "      <td>0.000</td>\n",
       "      <td>0.741</td>\n",
       "      <td>42.629603</td>\n",
       "      <td>-74.079537</td>\n",
       "      <td>NaN</td>\n",
       "      <td>NaN</td>\n",
       "    </tr>\n",
       "    <tr>\n",
       "      <th>36</th>\n",
       "      <td>1425826970</td>\n",
       "      <td>NaN</td>\n",
       "      <td>0.031</td>\n",
       "      <td>367.3</td>\n",
       "      <td>0.0</td>\n",
       "      <td>-0.049</td>\n",
       "      <td>0.741</td>\n",
       "      <td>42.629603</td>\n",
       "      <td>-74.079537</td>\n",
       "      <td>NaN</td>\n",
       "      <td>NaN</td>\n",
       "    </tr>\n",
       "    <tr>\n",
       "      <th>37</th>\n",
       "      <td>1425826970</td>\n",
       "      <td>NaN</td>\n",
       "      <td>0.036</td>\n",
       "      <td>367.3</td>\n",
       "      <td>0.0</td>\n",
       "      <td>0.050</td>\n",
       "      <td>0.927</td>\n",
       "      <td>42.629602</td>\n",
       "      <td>-74.079537</td>\n",
       "      <td>NaN</td>\n",
       "      <td>NaN</td>\n",
       "    </tr>\n",
       "    <tr>\n",
       "      <th>38</th>\n",
       "      <td>1425826971</td>\n",
       "      <td>NaN</td>\n",
       "      <td>0.036</td>\n",
       "      <td>367.3</td>\n",
       "      <td>0.0</td>\n",
       "      <td>0.000</td>\n",
       "      <td>0.927</td>\n",
       "      <td>42.629602</td>\n",
       "      <td>-74.079537</td>\n",
       "      <td>NaN</td>\n",
       "      <td>NaN</td>\n",
       "    </tr>\n",
       "    <tr>\n",
       "      <th>39</th>\n",
       "      <td>1425826971</td>\n",
       "      <td>NaN</td>\n",
       "      <td>0.041</td>\n",
       "      <td>367.3</td>\n",
       "      <td>0.0</td>\n",
       "      <td>0.050</td>\n",
       "      <td>0.927</td>\n",
       "      <td>42.629602</td>\n",
       "      <td>-74.079537</td>\n",
       "      <td>NaN</td>\n",
       "      <td>NaN</td>\n",
       "    </tr>\n",
       "    <tr>\n",
       "      <th>40</th>\n",
       "      <td>1425826971</td>\n",
       "      <td>NaN</td>\n",
       "      <td>0.031</td>\n",
       "      <td>367.3</td>\n",
       "      <td>0.0</td>\n",
       "      <td>-0.099</td>\n",
       "      <td>1.112</td>\n",
       "      <td>42.629600</td>\n",
       "      <td>-74.079537</td>\n",
       "      <td>NaN</td>\n",
       "      <td>NaN</td>\n",
       "    </tr>\n",
       "    <tr>\n",
       "      <th>41</th>\n",
       "      <td>1425826971</td>\n",
       "      <td>NaN</td>\n",
       "      <td>0.036</td>\n",
       "      <td>367.3</td>\n",
       "      <td>0.0</td>\n",
       "      <td>0.050</td>\n",
       "      <td>1.112</td>\n",
       "      <td>42.629600</td>\n",
       "      <td>-74.079537</td>\n",
       "      <td>NaN</td>\n",
       "      <td>NaN</td>\n",
       "    </tr>\n",
       "    <tr>\n",
       "      <th>42</th>\n",
       "      <td>1425826971</td>\n",
       "      <td>NaN</td>\n",
       "      <td>0.031</td>\n",
       "      <td>367.3</td>\n",
       "      <td>0.0</td>\n",
       "      <td>-0.049</td>\n",
       "      <td>1.112</td>\n",
       "      <td>42.629600</td>\n",
       "      <td>-74.079537</td>\n",
       "      <td>NaN</td>\n",
       "      <td>NaN</td>\n",
       "    </tr>\n",
       "    <tr>\n",
       "      <th>43</th>\n",
       "      <td>1425826971</td>\n",
       "      <td>NaN</td>\n",
       "      <td>0.036</td>\n",
       "      <td>367.4</td>\n",
       "      <td>0.0</td>\n",
       "      <td>0.050</td>\n",
       "      <td>1.112</td>\n",
       "      <td>42.629600</td>\n",
       "      <td>-74.079537</td>\n",
       "      <td>NaN</td>\n",
       "      <td>NaN</td>\n",
       "    </tr>\n",
       "    <tr>\n",
       "      <th>44</th>\n",
       "      <td>1425826971</td>\n",
       "      <td>NaN</td>\n",
       "      <td>0.036</td>\n",
       "      <td>367.4</td>\n",
       "      <td>0.0</td>\n",
       "      <td>0.000</td>\n",
       "      <td>1.112</td>\n",
       "      <td>42.629600</td>\n",
       "      <td>-74.079537</td>\n",
       "      <td>NaN</td>\n",
       "      <td>NaN</td>\n",
       "    </tr>\n",
       "    <tr>\n",
       "      <th>45</th>\n",
       "      <td>1425826971</td>\n",
       "      <td>NaN</td>\n",
       "      <td>0.026</td>\n",
       "      <td>367.5</td>\n",
       "      <td>0.0</td>\n",
       "      <td>-0.099</td>\n",
       "      <td>1.112</td>\n",
       "      <td>42.629600</td>\n",
       "      <td>-74.079537</td>\n",
       "      <td>NaN</td>\n",
       "      <td>NaN</td>\n",
       "    </tr>\n",
       "    <tr>\n",
       "      <th>46</th>\n",
       "      <td>1425826971</td>\n",
       "      <td>NaN</td>\n",
       "      <td>0.021</td>\n",
       "      <td>367.6</td>\n",
       "      <td>0.0</td>\n",
       "      <td>-0.049</td>\n",
       "      <td>1.112</td>\n",
       "      <td>42.629600</td>\n",
       "      <td>-74.079537</td>\n",
       "      <td>NaN</td>\n",
       "      <td>NaN</td>\n",
       "    </tr>\n",
       "    <tr>\n",
       "      <th>47</th>\n",
       "      <td>1425826971</td>\n",
       "      <td>NaN</td>\n",
       "      <td>0.021</td>\n",
       "      <td>367.7</td>\n",
       "      <td>0.0</td>\n",
       "      <td>0.000</td>\n",
       "      <td>1.112</td>\n",
       "      <td>42.629600</td>\n",
       "      <td>-74.079537</td>\n",
       "      <td>NaN</td>\n",
       "      <td>NaN</td>\n",
       "    </tr>\n",
       "    <tr>\n",
       "      <th>48</th>\n",
       "      <td>1425826972</td>\n",
       "      <td>NaN</td>\n",
       "      <td>0.026</td>\n",
       "      <td>367.8</td>\n",
       "      <td>0.0</td>\n",
       "      <td>0.050</td>\n",
       "      <td>1.112</td>\n",
       "      <td>42.629600</td>\n",
       "      <td>-74.079537</td>\n",
       "      <td>NaN</td>\n",
       "      <td>NaN</td>\n",
       "    </tr>\n",
       "    <tr>\n",
       "      <th>49</th>\n",
       "      <td>1425826972</td>\n",
       "      <td>NaN</td>\n",
       "      <td>0.026</td>\n",
       "      <td>367.8</td>\n",
       "      <td>0.0</td>\n",
       "      <td>0.000</td>\n",
       "      <td>1.297</td>\n",
       "      <td>42.629598</td>\n",
       "      <td>-74.079537</td>\n",
       "      <td>NaN</td>\n",
       "      <td>NaN</td>\n",
       "    </tr>\n",
       "  </tbody>\n",
       "</table>\n",
       "</div>"
      ],
      "text/plain": [
       "    timestamp(s)  lap  speed(m/s)  altitude(m)  lateral acceleration(m/s^2)  \\\n",
       "0     1425826967  NaN       0.005        365.8                          0.0   \n",
       "1     1425826967  NaN       0.000        365.8                          0.0   \n",
       "2     1425826967  NaN       0.015        365.9                          0.0   \n",
       "3     1425826967  NaN       0.010        365.9                          0.0   \n",
       "4     1425826967  NaN       0.015        366.0                          0.0   \n",
       "5     1425826967  NaN       0.021        366.1                          0.0   \n",
       "6     1425826967  NaN       0.015        366.1                          0.0   \n",
       "7     1425826967  NaN       0.010        366.1                          0.0   \n",
       "8     1425826968  NaN       0.021        366.1                          0.0   \n",
       "9     1425826968  NaN       0.010        366.1                          0.0   \n",
       "10    1425826968  NaN       0.015        366.1                          0.0   \n",
       "11    1425826968  NaN       0.015        366.2                          0.0   \n",
       "12    1425826968  NaN       0.026        366.2                          0.0   \n",
       "13    1425826968  NaN       0.026        366.3                          0.0   \n",
       "14    1425826968  NaN       0.021        366.4                          0.0   \n",
       "15    1425826968  NaN       0.021        366.5                          0.0   \n",
       "16    1425826968  NaN       0.015        366.6                          0.0   \n",
       "17    1425826968  NaN       0.031        366.7                          0.0   \n",
       "18    1425826969  NaN       0.021        366.8                          0.0   \n",
       "19    1425826969  NaN       0.036        366.9                          0.0   \n",
       "20    1425826969  NaN       0.026        367.0                          0.0   \n",
       "21    1425826969  NaN       0.021        367.1                          0.0   \n",
       "22    1425826969  NaN       0.031        367.1                          0.0   \n",
       "23    1425826969  NaN       0.031        367.2                          0.0   \n",
       "24    1425826969  NaN       0.036        367.2                          0.0   \n",
       "25    1425826969  NaN       0.026        367.2                          0.0   \n",
       "26    1425826969  NaN       0.031        367.2                          0.0   \n",
       "27    1425826969  NaN       0.026        367.2                          0.0   \n",
       "28    1425826970  NaN       0.036        367.2                          0.0   \n",
       "29    1425826970  NaN       0.036        367.2                          0.0   \n",
       "30    1425826970  NaN       0.031        367.2                          0.0   \n",
       "31    1425826970  NaN       0.026        367.3                          0.0   \n",
       "32    1425826970  NaN       0.031        367.3                          0.0   \n",
       "33    1425826970  NaN       0.031        367.3                          0.0   \n",
       "34    1425826970  NaN       0.036        367.3                          0.0   \n",
       "35    1425826970  NaN       0.036        367.3                          0.0   \n",
       "36    1425826970  NaN       0.031        367.3                          0.0   \n",
       "37    1425826970  NaN       0.036        367.3                          0.0   \n",
       "38    1425826971  NaN       0.036        367.3                          0.0   \n",
       "39    1425826971  NaN       0.041        367.3                          0.0   \n",
       "40    1425826971  NaN       0.031        367.3                          0.0   \n",
       "41    1425826971  NaN       0.036        367.3                          0.0   \n",
       "42    1425826971  NaN       0.031        367.3                          0.0   \n",
       "43    1425826971  NaN       0.036        367.4                          0.0   \n",
       "44    1425826971  NaN       0.036        367.4                          0.0   \n",
       "45    1425826971  NaN       0.026        367.5                          0.0   \n",
       "46    1425826971  NaN       0.021        367.6                          0.0   \n",
       "47    1425826971  NaN       0.021        367.7                          0.0   \n",
       "48    1425826972  NaN       0.026        367.8                          0.0   \n",
       "49    1425826972  NaN       0.026        367.8                          0.0   \n",
       "\n",
       "    longitudinal acceleration(m/s^2)  distance(m)  latitude(deg)  \\\n",
       "0                             -0.049        0.000      42.629610   \n",
       "1                             -0.049        0.000      42.629610   \n",
       "2                              0.150        0.000      42.629610   \n",
       "3                             -0.049        0.000      42.629610   \n",
       "4                              0.050        0.000      42.629610   \n",
       "5                              0.060        0.000      42.629610   \n",
       "6                             -0.059        0.185      42.629608   \n",
       "7                             -0.049        0.185      42.629608   \n",
       "8                              0.110        0.185      42.629608   \n",
       "9                             -0.109        0.185      42.629608   \n",
       "10                             0.050        0.371      42.629607   \n",
       "11                             0.000        0.371      42.629607   \n",
       "12                             0.110        0.371      42.629607   \n",
       "13                             0.000        0.371      42.629607   \n",
       "14                            -0.049        0.556      42.629605   \n",
       "15                             0.000        0.556      42.629605   \n",
       "16                            -0.059        0.556      42.629605   \n",
       "17                             0.160        0.556      42.629605   \n",
       "18                            -0.099        0.556      42.629605   \n",
       "19                             0.150        0.741      42.629603   \n",
       "20                            -0.099        0.741      42.629603   \n",
       "21                            -0.049        0.741      42.629603   \n",
       "22                             0.100        0.741      42.629603   \n",
       "23                             0.000        0.741      42.629603   \n",
       "24                             0.050        0.741      42.629603   \n",
       "25                            -0.099        0.741      42.629603   \n",
       "26                             0.050        0.741      42.629603   \n",
       "27                            -0.049        0.741      42.629603   \n",
       "28                             0.100        0.741      42.629603   \n",
       "29                             0.000        0.741      42.629603   \n",
       "30                            -0.049        0.741      42.629603   \n",
       "31                            -0.049        0.741      42.629603   \n",
       "32                             0.050        0.741      42.629603   \n",
       "33                             0.000        0.741      42.629603   \n",
       "34                             0.050        0.741      42.629603   \n",
       "35                             0.000        0.741      42.629603   \n",
       "36                            -0.049        0.741      42.629603   \n",
       "37                             0.050        0.927      42.629602   \n",
       "38                             0.000        0.927      42.629602   \n",
       "39                             0.050        0.927      42.629602   \n",
       "40                            -0.099        1.112      42.629600   \n",
       "41                             0.050        1.112      42.629600   \n",
       "42                            -0.049        1.112      42.629600   \n",
       "43                             0.050        1.112      42.629600   \n",
       "44                             0.000        1.112      42.629600   \n",
       "45                            -0.099        1.112      42.629600   \n",
       "46                            -0.049        1.112      42.629600   \n",
       "47                             0.000        1.112      42.629600   \n",
       "48                             0.050        1.112      42.629600   \n",
       "49                             0.000        1.297      42.629598   \n",
       "\n",
       "    longitude(deg)  speedOBD(m/s)  RPM  \n",
       "0       -74.079537            NaN  NaN  \n",
       "1       -74.079537            NaN  NaN  \n",
       "2       -74.079537            NaN  NaN  \n",
       "3       -74.079537            NaN  NaN  \n",
       "4       -74.079537            NaN  NaN  \n",
       "5       -74.079537            NaN  NaN  \n",
       "6       -74.079537            NaN  NaN  \n",
       "7       -74.079537            NaN  NaN  \n",
       "8       -74.079537            NaN  NaN  \n",
       "9       -74.079537            NaN  NaN  \n",
       "10      -74.079537            NaN  NaN  \n",
       "11      -74.079537            NaN  NaN  \n",
       "12      -74.079537            NaN  NaN  \n",
       "13      -74.079537            NaN  NaN  \n",
       "14      -74.079537            NaN  NaN  \n",
       "15      -74.079537            NaN  NaN  \n",
       "16      -74.079537            NaN  NaN  \n",
       "17      -74.079537            NaN  NaN  \n",
       "18      -74.079537            NaN  NaN  \n",
       "19      -74.079537            NaN  NaN  \n",
       "20      -74.079537            NaN  NaN  \n",
       "21      -74.079537            NaN  NaN  \n",
       "22      -74.079537            NaN  NaN  \n",
       "23      -74.079537            NaN  NaN  \n",
       "24      -74.079537            NaN  NaN  \n",
       "25      -74.079537            NaN  NaN  \n",
       "26      -74.079537            NaN  NaN  \n",
       "27      -74.079537            NaN  NaN  \n",
       "28      -74.079537            NaN  NaN  \n",
       "29      -74.079537            NaN  NaN  \n",
       "30      -74.079537            NaN  NaN  \n",
       "31      -74.079537            NaN  NaN  \n",
       "32      -74.079537            NaN  NaN  \n",
       "33      -74.079537            NaN  NaN  \n",
       "34      -74.079537            NaN  NaN  \n",
       "35      -74.079537            NaN  NaN  \n",
       "36      -74.079537            NaN  NaN  \n",
       "37      -74.079537            NaN  NaN  \n",
       "38      -74.079537            NaN  NaN  \n",
       "39      -74.079537            NaN  NaN  \n",
       "40      -74.079537            NaN  NaN  \n",
       "41      -74.079537            NaN  NaN  \n",
       "42      -74.079537            NaN  NaN  \n",
       "43      -74.079537            NaN  NaN  \n",
       "44      -74.079537            NaN  NaN  \n",
       "45      -74.079537            NaN  NaN  \n",
       "46      -74.079537            NaN  NaN  \n",
       "47      -74.079537            NaN  NaN  \n",
       "48      -74.079537            NaN  NaN  \n",
       "49      -74.079537            NaN  NaN  "
      ]
     },
     "execution_count": 4,
     "metadata": {},
     "output_type": "execute_result"
    }
   ],
   "source": [
    "dfFixed.head(50)"
   ]
  },
  {
   "cell_type": "markdown",
   "metadata": {
    "deletable": false,
    "editable": false,
    "nbgrader": {
     "cell_type": "markdown",
     "checksum": "63769b40df7da9b4bc91d2e02517dfb3",
     "grade": false,
     "grade_id": "cell-0c6ef7c62b59b028",
     "locked": true,
     "schema_version": 3,
     "solution": false,
     "task": false
    }
   },
   "source": [
    "Output the number of null values for each Series in this dataset."
   ]
  },
  {
   "cell_type": "code",
   "execution_count": 5,
   "metadata": {
    "deletable": false,
    "nbgrader": {
     "cell_type": "code",
     "checksum": "75e1f4922c93d401d21d8eb2a4215764",
     "grade": false,
     "grade_id": "cell-1a86c9a079049565",
     "locked": false,
     "schema_version": 3,
     "solution": true,
     "task": false
    }
   },
   "outputs": [
    {
     "data": {
      "text/plain": [
       "timestamp(s)                            0\n",
       "lap                                 13069\n",
       "speed(m/s)                              0\n",
       "altitude(m)                             0\n",
       "lateral acceleration(m/s^2)         13081\n",
       "longitudinal acceleration(m/s^2)        0\n",
       "distance(m)                             0\n",
       "latitude(deg)                           0\n",
       "longitude(deg)                          0\n",
       "speedOBD(m/s)                        2689\n",
       "RPM                                  2690\n",
       "dtype: int64"
      ]
     },
     "execution_count": 5,
     "metadata": {},
     "output_type": "execute_result"
    }
   ],
   "source": [
    "dfFixed.isnull().sum()"
   ]
  },
  {
   "cell_type": "markdown",
   "metadata": {
    "deletable": false,
    "editable": false,
    "nbgrader": {
     "cell_type": "markdown",
     "checksum": "fc854d6ba864dc0717cd88d4a1ab55cd",
     "grade": false,
     "grade_id": "cell-758d08ff70275fc4",
     "locked": true,
     "schema_version": 3,
     "solution": false,
     "task": false
    }
   },
   "source": [
    "# Dealing with Null values using 2 different approaches\n",
    "There appears to be many null values in this dataset, in particular in two of the Series. We will analyze a few aspects of the data by dealing with null values two different ways and comparing. \n",
    "\n",
    "*Be sure to pay attention to which part you are writing code for, so that you use the requested approaches*"
   ]
  },
  {
   "cell_type": "markdown",
   "metadata": {
    "deletable": false,
    "editable": false,
    "nbgrader": {
     "cell_type": "markdown",
     "checksum": "38465f571b28ea7c635f6d499f23e202",
     "grade": false,
     "grade_id": "cell-184d7103bb980757",
     "locked": true,
     "schema_version": 3,
     "solution": false,
     "task": false
    }
   },
   "source": [
    "## Part 1: No use of dropna \n",
    "\n",
    "Solve the following problems such that you ignore NA values without using the dropna function."
   ]
  },
  {
   "cell_type": "markdown",
   "metadata": {
    "deletable": false,
    "editable": false,
    "nbgrader": {
     "cell_type": "markdown",
     "checksum": "d7ac5dc8bd20d4dc9c3a05a9d7faf540",
     "grade": false,
     "grade_id": "cell-f532bdd609193fc8",
     "locked": true,
     "schema_version": 3,
     "solution": false,
     "task": false
    }
   },
   "source": [
    "First, let's get a feel for what the race track looks like. We'll try this two different ways.\n",
    "\n",
    "A. Create a 2D histogram of the latitude and longitude values. Do not remove or ignore any NA values. You should use the matplotlib function designed for this called `hist2d`, and *choose a bin count* that gives you a good view of the track. *Add a color bar* so that the values that relate to the colors is clear. This question is a good opportunity to try to learn to use a new plotting function from the documentation or online examples.\n",
    "\n",
    "Ideally you should make sure that it's correctly aligned North/South/East/West, based on latitude/longitude and what those values mean, but you don't have to do that for full credit as it requires a bit more modification to the data. However, taking the time to check your understanding of latitude/longitude to make that extra modification will help bump you up to an 'E' grade. I recommend coming back to that extra after you've completed the rest of the assignment."
   ]
  },
  {
   "cell_type": "code",
   "execution_count": 6,
   "metadata": {
    "deletable": false,
    "nbgrader": {
     "cell_type": "code",
     "checksum": "62819b7de1c6201b3471ea461d52618a",
     "grade": false,
     "grade_id": "cell-42486ac394ea77b2",
     "locked": false,
     "schema_version": 3,
     "solution": true,
     "task": false
    }
   },
   "outputs": [
    {
     "data": {
      "image/png": "[encoded data removed]",
      "text/plain": [
       "<Figure size 432x288 with 2 Axes>"
      ]
     },
     "metadata": {
      "needs_background": "light"
     },
     "output_type": "display_data"
    }
   ],
   "source": [
    "y = dfFixed['longitude(deg)']\n",
    "x = dfFixed['latitude(deg)']\n",
    "plt.hist2d(x, y, bins = (40, 40), cmap = 'Blues')\n",
    "plt.colorbar();"
   ]
  },
  {
   "cell_type": "markdown",
   "metadata": {},
   "source": [
    "Comments:\n",
    "latitude/longitude on wrong axes"
   ]
  },
  {
   "cell_type": "markdown",
   "metadata": {
    "deletable": false,
    "editable": false,
    "nbgrader": {
     "cell_type": "markdown",
     "checksum": "b0b915d64fd4080dfd8bd1aca2c2aa46",
     "grade": false,
     "grade_id": "cell-1e7034ae1dd73f97",
     "locked": true,
     "schema_version": 3,
     "solution": false,
     "task": false
    }
   },
   "source": [
    "B. Now, create a new 2D histogram of the latitude and longitude but only include data that has a valid lap number. You should not be dropping any values or modifying your dataframe.\n",
    "\n",
    "Consider your bin number again, and add a color bar."
   ]
  },
  {
   "cell_type": "code",
   "execution_count": 7,
   "metadata": {
    "deletable": false,
    "nbgrader": {
     "cell_type": "code",
     "checksum": "1625435b52383c9403a7707225cbd274",
     "grade": false,
     "grade_id": "cell-8e1f6b1204b69fba",
     "locked": false,
     "schema_version": 3,
     "solution": true,
     "task": false
    }
   },
   "outputs": [
    {
     "data": {
      "image/png": "[encoded data removed]",
      "text/plain": [
       "<Figure size 432x288 with 2 Axes>"
      ]
     },
     "metadata": {
      "needs_background": "light"
     },
     "output_type": "display_data"
    }
   ],
   "source": [
    "validLapData = dfFixed[dfFixed.lap.notnull()]\n",
    "y = validLapData['longitude(deg)']\n",
    "x = validLapData['latitude(deg)']\n",
    "plt.hist2d(x, y, bins = (30, 30), cmap = 'Greens')\n",
    "plt.colorbar();"
   ]
  },
  {
   "cell_type": "markdown",
   "metadata": {
    "deletable": false,
    "editable": false,
    "nbgrader": {
     "cell_type": "markdown",
     "checksum": "1f6c2cb497785fa8cbb696926f902aea",
     "grade": false,
     "grade_id": "cell-b412695e495d4381",
     "locked": true,
     "schema_version": 3,
     "solution": false,
     "task": false
    }
   },
   "source": [
    "These two histograms should be different. If you can't see a difference, you need to work on your code some more before moving on.\n",
    "\n",
    "Explain what you have learned about the race from these histograms, and why they are different (in terms of the race data, not in terms of what you did differently in your code). What do the colors mean? What is the shape of the track?"
   ]
  },
  {
   "cell_type": "markdown",
   "metadata": {
    "deletable": false,
    "nbgrader": {
     "cell_type": "markdown",
     "checksum": "e42e64f52b9f39c0abf76d53e7da67bc",
     "grade": true,
     "grade_id": "cell-23ded0ce87ff8783",
     "locked": false,
     "points": 0,
     "schema_version": 3,
     "solution": true,
     "task": false
    }
   },
   "source": [
    "## Race Explanation\n",
    "- the darker colors indicate the how frequently the cars were recorded on the map. There seems to have been quite a few laps!\n",
    "- the shape of the track reminds me of a cartoon character pointing at something. The line on the bottom right pointing upwards looks like it could be where the cars go before/after the race."
   ]
  },
  {
   "cell_type": "markdown",
   "metadata": {
    "deletable": false,
    "editable": false,
    "nbgrader": {
     "cell_type": "markdown",
     "checksum": "7a2ec3ca3d7d398b6e704dfe001f0c2f",
     "grade": false,
     "grade_id": "cell-2a7370b67186e955",
     "locked": true,
     "schema_version": 3,
     "solution": false,
     "task": false
    }
   },
   "source": [
    "Now, plot the average RPM for each lap. Do not include any rows that contain NA values in the RPM or lap columns. Choose the correct graph type. You should be using filtering as part of this solution, and you should be plotting directly from your pandas dataframe (no separate call to plt.plot to create the plot)."
   ]
  },
  {
   "cell_type": "code",
   "execution_count": 8,
   "metadata": {
    "deletable": false,
    "nbgrader": {
     "cell_type": "code",
     "checksum": "0009bcba35a16452626d53b553439ab1",
     "grade": true,
     "grade_id": "cell-8dc3eb730de4b295",
     "locked": false,
     "points": 0,
     "schema_version": 3,
     "solution": true,
     "task": false
    }
   },
   "outputs": [
    {
     "data": {
      "image/png": "[encoded data removed]",
      "text/plain": [
       "<Figure size 432x288 with 1 Axes>"
      ]
     },
     "metadata": {
      "needs_background": "light"
     },
     "output_type": "display_data"
    }
   ],
   "source": [
    "validLapandRPMData = dfFixed[(dfFixed.lap.notnull()) & (dfFixed.RPM.notnull())]\n",
    "validLapandRPMData.groupby(\"lap\")[\"RPM\"].mean().plot(color = 'red', xlabel = \"Lap number\", ylabel = \"Average RPM\");"
   ]
  },
  {
   "cell_type": "markdown",
   "metadata": {
    "deletable": false,
    "editable": false,
    "nbgrader": {
     "cell_type": "markdown",
     "checksum": "fa4f9bceac492f6e37b07205bcd20e58",
     "grade": false,
     "grade_id": "cell-44de1ff17af0b750",
     "locked": true,
     "schema_version": 3,
     "solution": false,
     "task": false
    }
   },
   "source": [
    "What is the max speed each lap? Plot it. Be sure to *only* ignore null values in the *relevant columns*, not all columns."
   ]
  },
  {
   "cell_type": "code",
   "execution_count": 9,
   "metadata": {
    "deletable": false,
    "nbgrader": {
     "cell_type": "code",
     "checksum": "3ee93b9a3610d4495b0d594505d50b9b",
     "grade": false,
     "grade_id": "cell-52d4166b41625c66",
     "locked": false,
     "schema_version": 3,
     "solution": true,
     "task": false
    }
   },
   "outputs": [
    {
     "data": {
      "image/png": "[encoded data removed]",
      "text/plain": [
       "<Figure size 432x288 with 1 Axes>"
      ]
     },
     "metadata": {
      "needs_background": "light"
     },
     "output_type": "display_data"
    }
   ],
   "source": [
    "maxSpeed = dfFixed[(dfFixed.lap.notnull()) & (dfFixed.RPM.notnull())]\n",
    "maxSpeed.groupby(\"lap\")[\"speedOBD(m/s)\"].mean().plot(xlabel = \"Lap number\", ylabel = \"Average speed\");"
   ]
  },
  {
   "cell_type": "markdown",
   "metadata": {},
   "source": [
    "Comments:\n",
    "you shouldn't be removing RPM null values here. Those aren't being used in the graphing."
   ]
  },
  {
   "cell_type": "markdown",
   "metadata": {
    "deletable": false,
    "editable": false,
    "nbgrader": {
     "cell_type": "markdown",
     "checksum": "de56c168b79ed934c1269ec886555563",
     "grade": false,
     "grade_id": "cell-2fe1e4ca64226009",
     "locked": true,
     "schema_version": 3,
     "solution": false,
     "task": false
    }
   },
   "source": [
    "## Part 2: Removing all null values first\n",
    "\n",
    "Now we will remove all null values before doing any analysis. In the following cell, remove all rows that have at least one null value from the dataset.\n",
    "\n",
    "NOTE: Remember that when you modify a dataframe, it is modified in your notebook. After you drop null values below, if you try to re-run cells above, you will be running on data without null values. If you need to get back to your original dataframe, you should consider restarting your notebook and re-running from the top to make sure you are working on the correct data. You do this step by going to the Kernel Menu, and choose \"restart & clear output\"."
   ]
  },
  {
   "cell_type": "code",
   "execution_count": 10,
   "metadata": {
    "deletable": false,
    "nbgrader": {
     "cell_type": "code",
     "checksum": "8f6100a400b895e3a5ddf2ec79cfee45",
     "grade": false,
     "grade_id": "cell-1369384b50115044",
     "locked": false,
     "schema_version": 3,
     "solution": true,
     "task": false
    }
   },
   "outputs": [],
   "source": [
    "dfDroppedNan = dfFixed.dropna(how = 'any')\n",
    "#i don't want to mess up the earlier stuff, so I am giving it a new name."
   ]
  },
  {
   "cell_type": "markdown",
   "metadata": {
    "deletable": false,
    "editable": false,
    "hide_input": true,
    "nbgrader": {
     "cell_type": "markdown",
     "checksum": "96782631c3bfb23c5fb2842de2cf5d2e",
     "grade": false,
     "grade_id": "cell-91b6da5154678039",
     "locked": true,
     "schema_version": 3,
     "solution": false,
     "task": false
    }
   },
   "source": [
    "Recreate the latitude and longitude histogram with this version of the data. Use similar styling to your prior histogram."
   ]
  },
  {
   "cell_type": "code",
   "execution_count": 11,
   "metadata": {
    "deletable": false,
    "nbgrader": {
     "cell_type": "code",
     "checksum": "67317f7431257e0d9abb0393fef4816d",
     "grade": true,
     "grade_id": "cell-a1c509cbf1e90765",
     "locked": false,
     "points": 0,
     "schema_version": 3,
     "solution": true,
     "task": false
    }
   },
   "outputs": [
    {
     "data": {
      "image/png": "[encoded data removed]",
      "text/plain": [
       "<Figure size 432x288 with 2 Axes>"
      ]
     },
     "metadata": {
      "needs_background": "light"
     },
     "output_type": "display_data"
    }
   ],
   "source": [
    "y = dfDroppedNan['longitude(deg)']\n",
    "x = dfDroppedNan['latitude(deg)']\n",
    "plt.hist2d(x, y, bins = (40, 40), cmap = 'Blues')\n",
    "plt.colorbar();"
   ]
  },
  {
   "cell_type": "markdown",
   "metadata": {
    "deletable": false,
    "editable": false,
    "nbgrader": {
     "cell_type": "markdown",
     "checksum": "b2cd5e7b621fc87a7777ace7d715acd2",
     "grade": false,
     "grade_id": "cell-bf16d49d49e53106",
     "locked": true,
     "schema_version": 3,
     "solution": false,
     "task": false
    }
   },
   "source": [
    "Recreate the plot of the average RPM by lap, using the same styling as your prior graph."
   ]
  },
  {
   "cell_type": "code",
   "execution_count": 12,
   "metadata": {
    "deletable": false,
    "nbgrader": {
     "cell_type": "code",
     "checksum": "e6e69531534c086c0a5e03aefbaab900",
     "grade": false,
     "grade_id": "cell-efdf87a106ea900c",
     "locked": false,
     "schema_version": 3,
     "solution": true,
     "task": false
    }
   },
   "outputs": [
    {
     "data": {
      "image/png": "[encoded data removed]",
      "text/plain": [
       "<Figure size 432x288 with 1 Axes>"
      ]
     },
     "metadata": {
      "needs_background": "light"
     },
     "output_type": "display_data"
    }
   ],
   "source": [
    "dfDroppedNan.groupby(\"lap\")[\"RPM\"].mean().plot(color = 'red', xlabel = \"Lap number\", ylabel = \"Average RPM\");"
   ]
  },
  {
   "cell_type": "markdown",
   "metadata": {
    "deletable": false,
    "editable": false,
    "nbgrader": {
     "cell_type": "markdown",
     "checksum": "9fd11e41b56deef4d5100dd43c2281ef",
     "grade": false,
     "grade_id": "cell-49f97795f71ff79f",
     "locked": true,
     "schema_version": 3,
     "solution": false,
     "task": false
    }
   },
   "source": [
    "Recreate the plot of the maximum speed by lap."
   ]
  },
  {
   "cell_type": "code",
   "execution_count": 13,
   "metadata": {
    "deletable": false,
    "nbgrader": {
     "cell_type": "code",
     "checksum": "906faec8ecca3ebabd0352ba426c8860",
     "grade": false,
     "grade_id": "cell-ad83b78c6dd3b36f",
     "locked": false,
     "schema_version": 3,
     "solution": true,
     "task": false
    }
   },
   "outputs": [
    {
     "data": {
      "image/png": "[encoded data removed]",
      "text/plain": [
       "<Figure size 432x288 with 1 Axes>"
      ]
     },
     "metadata": {
      "needs_background": "light"
     },
     "output_type": "display_data"
    }
   ],
   "source": [
    "dfDroppedNan.groupby(\"lap\")[\"speedOBD(m/s)\"].mean().plot(xlabel = \"Lap number\", ylabel = \"Average speed\");"
   ]
  },
  {
   "cell_type": "markdown",
   "metadata": {
    "deletable": false,
    "editable": false,
    "nbgrader": {
     "cell_type": "markdown",
     "checksum": "16bb64ea92e3b8f7e804b5933793a25f",
     "grade": false,
     "grade_id": "cell-8a454bfb3da369aa",
     "locked": true,
     "schema_version": 3,
     "solution": false,
     "task": false
    }
   },
   "source": [
    "## Last few modifications to the dataframe\n",
    "\n",
    "Now we'll practice adding new Series to our dataframe. We are assuming null values have been dropped already."
   ]
  },
  {
   "cell_type": "markdown",
   "metadata": {
    "deletable": false,
    "editable": false,
    "nbgrader": {
     "cell_type": "markdown",
     "checksum": "742231479e9fab5577586a44d0389ca7",
     "grade": false,
     "grade_id": "cell-a1a2a966ffbdb140",
     "locked": true,
     "schema_version": 3,
     "solution": false,
     "task": false
    }
   },
   "source": [
    "Let's add a new Series named \"speed from mean\" that holds how different the speed in that column was from the average speed over the course of the entire race. You should use a lambda function to create this column."
   ]
  },
  {
   "cell_type": "code",
   "execution_count": 25,
   "metadata": {
    "deletable": false,
    "nbgrader": {
     "cell_type": "code",
     "checksum": "776ce3e3743f5044264278b535825147",
     "grade": false,
     "grade_id": "cell-d5b63a574d2cbb21",
     "locked": false,
     "schema_version": 3,
     "solution": true,
     "task": false
    }
   },
   "outputs": [],
   "source": [
    "dfDroppedNan = dfDroppedNan.assign(speed_from_mean = lambda x: x[\"speed(m/s)\"].mean() - x[\"speed(m/s)\"])"
   ]
  },
  {
   "cell_type": "code",
   "execution_count": 23,
   "metadata": {},
   "outputs": [
    {
     "data": {
      "text/html": [
       "<div>\n",
       "<style scoped>\n",
       "    .dataframe tbody tr th:only-of-type {\n",
       "        vertical-align: middle;\n",
       "    }\n",
       "\n",
       "    .dataframe tbody tr th {\n",
       "        vertical-align: top;\n",
       "    }\n",
       "\n",
       "    .dataframe thead th {\n",
       "        text-align: right;\n",
       "    }\n",
       "</style>\n",
       "<table border=\"1\" class=\"dataframe\">\n",
       "  <thead>\n",
       "    <tr style=\"text-align: right;\">\n",
       "      <th></th>\n",
       "      <th>timestamp(s)</th>\n",
       "      <th>lap</th>\n",
       "      <th>speed(m/s)</th>\n",
       "      <th>altitude(m)</th>\n",
       "      <th>lateral acceleration(m/s^2)</th>\n",
       "      <th>longitudinal acceleration(m/s^2)</th>\n",
       "      <th>distance(m)</th>\n",
       "      <th>latitude(deg)</th>\n",
       "      <th>longitude(deg)</th>\n",
       "      <th>speedOBD(m/s)</th>\n",
       "      <th>RPM</th>\n",
       "      <th>speed_from_mean</th>\n",
       "      <th>difference_between_speeds</th>\n",
       "    </tr>\n",
       "  </thead>\n",
       "  <tbody>\n",
       "    <tr>\n",
       "      <th>5021</th>\n",
       "      <td>1425830923</td>\n",
       "      <td>8.0</td>\n",
       "      <td>8.140</td>\n",
       "      <td>334.0</td>\n",
       "      <td>-0.914</td>\n",
       "      <td>0.555</td>\n",
       "      <td>123.421</td>\n",
       "      <td>42.627702</td>\n",
       "      <td>-74.079932</td>\n",
       "      <td>7.705</td>\n",
       "      <td>2514.0</td>\n",
       "      <td>5.899452</td>\n",
       "      <td>0.435</td>\n",
       "    </tr>\n",
       "    <tr>\n",
       "      <th>5022</th>\n",
       "      <td>1425830923</td>\n",
       "      <td>8.0</td>\n",
       "      <td>8.205</td>\n",
       "      <td>334.0</td>\n",
       "      <td>-1.011</td>\n",
       "      <td>0.523</td>\n",
       "      <td>124.531</td>\n",
       "      <td>42.627711</td>\n",
       "      <td>-74.079928</td>\n",
       "      <td>7.778</td>\n",
       "      <td>2555.0</td>\n",
       "      <td>5.834452</td>\n",
       "      <td>0.427</td>\n",
       "    </tr>\n",
       "    <tr>\n",
       "      <th>5023</th>\n",
       "      <td>1425830923</td>\n",
       "      <td>8.0</td>\n",
       "      <td>8.250</td>\n",
       "      <td>334.0</td>\n",
       "      <td>-1.078</td>\n",
       "      <td>0.500</td>\n",
       "      <td>125.307</td>\n",
       "      <td>42.627718</td>\n",
       "      <td>-74.079925</td>\n",
       "      <td>7.932</td>\n",
       "      <td>2583.0</td>\n",
       "      <td>5.789452</td>\n",
       "      <td>0.318</td>\n",
       "    </tr>\n",
       "    <tr>\n",
       "      <th>5024</th>\n",
       "      <td>1425830923</td>\n",
       "      <td>8.0</td>\n",
       "      <td>8.373</td>\n",
       "      <td>334.0</td>\n",
       "      <td>-1.094</td>\n",
       "      <td>0.588</td>\n",
       "      <td>125.974</td>\n",
       "      <td>42.627723</td>\n",
       "      <td>-74.079922</td>\n",
       "      <td>8.050</td>\n",
       "      <td>2605.0</td>\n",
       "      <td>5.666452</td>\n",
       "      <td>0.323</td>\n",
       "    </tr>\n",
       "    <tr>\n",
       "      <th>5025</th>\n",
       "      <td>1425830923</td>\n",
       "      <td>8.0</td>\n",
       "      <td>8.665</td>\n",
       "      <td>334.0</td>\n",
       "      <td>-1.132</td>\n",
       "      <td>0.796</td>\n",
       "      <td>127.565</td>\n",
       "      <td>42.627737</td>\n",
       "      <td>-74.079915</td>\n",
       "      <td>8.333</td>\n",
       "      <td>2657.0</td>\n",
       "      <td>5.374452</td>\n",
       "      <td>0.332</td>\n",
       "    </tr>\n",
       "  </tbody>\n",
       "</table>\n",
       "</div>"
      ],
      "text/plain": [
       "      timestamp(s)  lap  speed(m/s)  altitude(m)  lateral acceleration(m/s^2)  \\\n",
       "5021    1425830923  8.0       8.140        334.0                       -0.914   \n",
       "5022    1425830923  8.0       8.205        334.0                       -1.011   \n",
       "5023    1425830923  8.0       8.250        334.0                       -1.078   \n",
       "5024    1425830923  8.0       8.373        334.0                       -1.094   \n",
       "5025    1425830923  8.0       8.665        334.0                       -1.132   \n",
       "\n",
       "      longitudinal acceleration(m/s^2)  distance(m)  latitude(deg)  \\\n",
       "5021                             0.555      123.421      42.627702   \n",
       "5022                             0.523      124.531      42.627711   \n",
       "5023                             0.500      125.307      42.627718   \n",
       "5024                             0.588      125.974      42.627723   \n",
       "5025                             0.796      127.565      42.627737   \n",
       "\n",
       "      longitude(deg)  speedOBD(m/s)     RPM  speed_from_mean  \\\n",
       "5021      -74.079932          7.705  2514.0         5.899452   \n",
       "5022      -74.079928          7.778  2555.0         5.834452   \n",
       "5023      -74.079925          7.932  2583.0         5.789452   \n",
       "5024      -74.079922          8.050  2605.0         5.666452   \n",
       "5025      -74.079915          8.333  2657.0         5.374452   \n",
       "\n",
       "      difference_between_speeds  \n",
       "5021                      0.435  \n",
       "5022                      0.427  \n",
       "5023                      0.318  \n",
       "5024                      0.323  \n",
       "5025                      0.332  "
      ]
     },
     "execution_count": 23,
     "metadata": {},
     "output_type": "execute_result"
    }
   ],
   "source": [
    "dfDroppedNan.head()"
   ]
  },
  {
   "cell_type": "markdown",
   "metadata": {
    "deletable": false,
    "editable": false,
    "nbgrader": {
     "cell_type": "markdown",
     "checksum": "b0474b74a96d9b125c295957ce1fc8e8",
     "grade": false,
     "grade_id": "cell-188dd5754efa44fa",
     "locked": true,
     "schema_version": 3,
     "solution": false,
     "task": false
    }
   },
   "source": [
    "This dataset contains two different speed values: the speed as determined by the car's odometer, and the speed as determined by the GPS unit. Let's see how different those calculations are. First, create a new Series named \"difference between speeds\" that holds the difference between speed and speed OBD values. Then plot the average difference by lap, modifying at least one aspect of the graph style. You do not have to use a lambda function for this question."
   ]
  },
  {
   "cell_type": "code",
   "execution_count": 30,
   "metadata": {
    "deletable": false,
    "nbgrader": {
     "cell_type": "code",
     "checksum": "f9efd03052d827294db97b9abcb0e1c1",
     "grade": false,
     "grade_id": "cell-c8e1cf1799c5b145",
     "locked": false,
     "schema_version": 3,
     "solution": true,
     "task": false
    }
   },
   "outputs": [
    {
     "data": {
      "image/png": "[encoded data removed]",
      "text/plain": [
       "<Figure size 432x288 with 1 Axes>"
      ]
     },
     "metadata": {
      "needs_background": "light"
     },
     "output_type": "display_data"
    }
   ],
   "source": [
    "dfDroppedNan = dfDroppedNan.assign(difference_between_speeds = lambda x: x[\"speed(m/s)\"] - x[\"speedOBD(m/s)\"])\n",
    "\n",
    "dfDroppedNan.groupby(\"lap\")[\"difference_between_speeds\"].mean().plot(color = 'purple', marker='o', mfc = \"black\", xlabel = \"Lap number\", ylabel = \"Average difference of speed\");"
   ]
  },
  {
   "cell_type": "markdown",
   "metadata": {
    "deletable": false,
    "editable": false,
    "nbgrader": {
     "cell_type": "markdown",
     "checksum": "574c6523d5797b555102c5d7d39be353",
     "grade": false,
     "grade_id": "cell-14ac22b362e972ef",
     "locked": true,
     "schema_version": 3,
     "solution": false,
     "task": false
    }
   },
   "source": [
    "## Discuss \n",
    "\n",
    "In this assignment you practiced two different ways to deal with null values in your dataset. Discuss if your results were different between the two approaches, and when/if you should use one approach over the other."
   ]
  },
  {
   "cell_type": "markdown",
   "metadata": {
    "deletable": false,
    "nbgrader": {
     "cell_type": "markdown",
     "checksum": "af18c34afc33e8f7e3ac84078bd3872d",
     "grade": true,
     "grade_id": "cell-30632cd44416acdb",
     "locked": false,
     "points": 0,
     "schema_version": 3,
     "solution": true,
     "task": false
    }
   },
   "source": [
    "- using insull/notnull - though it is a little more complicated to use, i can see using this when you don't want to change the database (even temporarily). It can provide you with good data in determining what columns did or did not have values. Perhaps the question in the survey, was hidden, misleading, or not required at first.\n",
    "- using dropnull - Using dropnull was very easy and could help you if you want to make the data look cleaner. Having the option to drop 'all' or 'any' can ber very useful"
   ]
  },
  {
   "cell_type": "markdown",
   "metadata": {
    "deletable": false,
    "editable": false,
    "nbgrader": {
     "cell_type": "markdown",
     "checksum": "9230af58d5da2b77746a56382617345e",
     "grade": false,
     "grade_id": "cell-70cb9d24c1e32ee7",
     "locked": true,
     "schema_version": 3,
     "solution": false,
     "task": false
    }
   },
   "source": [
    "There is much more analysis we could do on this data. What is another interesting question you could ask about this data?"
   ]
  },
  {
   "cell_type": "markdown",
   "metadata": {
    "deletable": false,
    "nbgrader": {
     "cell_type": "markdown",
     "checksum": "f9d3d86311ea0bdd9504871146c3c516",
     "grade": true,
     "grade_id": "cell-5082089833f4495a",
     "locked": false,
     "points": 0,
     "schema_version": 3,
     "solution": true,
     "task": false
    }
   },
   "source": [
    "- I could ask how the time differed per lap.\n",
    "- Just to be able to see it, we could find out how long it took to take one lap depending on the speed."
   ]
  },
  {
   "cell_type": "markdown",
   "metadata": {
    "deletable": false,
    "editable": false,
    "nbgrader": {
     "cell_type": "markdown",
     "checksum": "f70aed529e00beed94a731f8a10b7a33",
     "grade": false,
     "grade_id": "cell-9d96782ce529bfe2",
     "locked": true,
     "schema_version": 3,
     "solution": false,
     "task": false
    }
   },
   "source": [
    "# Grade\n",
    "Ignore the below cell, which is used purely for noting your grade so that you can see it easily in JHub:\n",
    "* 3: E (Exemplary)\n",
    "* 2: M (Meets Expectations)\n",
    "* 1: R (Requires Revision)\n",
    "* 0: N (Not assessible)\n",
    "\n",
    "Remember that the actual number has no meaning. But I can't put a letter into JHub, so we have to use a number to represent each grade.\n"
   ]
  },
  {
   "cell_type": "markdown",
   "metadata": {
    "deletable": false,
    "nbgrader": {
     "cell_type": "markdown",
     "checksum": "1fdca3da7e1a68d8841016c09ce40509",
     "grade": true,
     "grade_id": "cell-4ace0180a498a356",
     "locked": false,
     "points": 3,
     "schema_version": 3,
     "solution": true,
     "task": false
    }
   },
   "source": [
    "YOUR ANSWER HERE"
   ]
  },
  {
   "cell_type": "markdown",
   "metadata": {
    "deletable": false,
    "editable": false,
    "nbgrader": {
     "cell_type": "markdown",
     "checksum": "623a2c1d3802f25b08c374e679598d69",
     "grade": false,
     "grade_id": "cell-5ce6ca6cabbc5c4f",
     "locked": true,
     "schema_version": 3,
     "solution": false,
     "task": false
    }
   },
   "source": [
    "## Extra Practice\n",
    "\n",
    "This is not graded in any way. But if you want extra practice with pandas, here is an opportunity.\n",
    "\n",
    "Write the code to answer the question you asked above. You'll get more out of this opportunity if your question is significantly unrelated to the prior questions in this assignment. There's a lot of data in this file that you could analyze in many different ways with pandas."
   ]
  },
  {
   "cell_type": "code",
   "execution_count": 17,
   "metadata": {
    "deletable": false,
    "nbgrader": {
     "cell_type": "code",
     "checksum": "02d87a70a5d074029107f4202bcdfe92",
     "grade": true,
     "grade_id": "cell-6b398809bdea383c",
     "locked": false,
     "points": 0,
     "schema_version": 3,
     "solution": true,
     "task": false
    }
   },
   "outputs": [
    {
     "ename": "NotImplementedError",
     "evalue": "",
     "output_type": "error",
     "traceback": [
      "\u001b[0;31m---------------------------------------------------------------------------\u001b[0m",
      "\u001b[0;31mNotImplementedError\u001b[0m                       Traceback (most recent call last)",
      "Input \u001b[0;32mIn [17]\u001b[0m, in \u001b[0;36m<cell line: 2>\u001b[0;34m()\u001b[0m\n\u001b[1;32m      1\u001b[0m \u001b[38;5;66;03m# YOUR CODE HERE\u001b[39;00m\n\u001b[0;32m----> 2\u001b[0m \u001b[38;5;28;01mraise\u001b[39;00m \u001b[38;5;167;01mNotImplementedError\u001b[39;00m()\n",
      "\u001b[0;31mNotImplementedError\u001b[0m: "
     ]
    }
   ],
   "source": [
    "# YOUR CODE HERE\n",
    "raise NotImplementedError()"
   ]
  }
 ],
 "metadata": {
  "kernelspec": {
   "display_name": "Python 3.10 (CS703f22)",
   "language": "python",
   "name": "python3.10_cs703"
  },
  "language_info": {
   "codemirror_mode": {
    "name": "ipython",
    "version": 3
   },
   "file_extension": ".py",
   "mimetype": "text/x-python",
   "name": "python",
   "nbconvert_exporter": "python",
   "pygments_lexer": "ipython3",
   "version": "3.10.4"
  },
  "varInspector": {
   "cols": {
    "lenName": 16,
    "lenType": 16,
    "lenVar": 40
   },
   "kernels_config": {
    "python": {
     "delete_cmd_postfix": "",
     "delete_cmd_prefix": "del ",
     "library": "var_list.py",
     "varRefreshCmd": "print(var_dic_list())"
    },
    "r": {
     "delete_cmd_postfix": ") ",
     "delete_cmd_prefix": "rm(",
     "library": "var_list.r",
     "varRefreshCmd": "cat(var_dic_list()) "
    }
   },
   "types_to_exclude": [
    "module",
    "function",
    "builtin_function_or_method",
    "instance",
    "_Feature"
   ],
   "window_display": false
  }
 },
 "nbformat": 4,
 "nbformat_minor": 4
}
